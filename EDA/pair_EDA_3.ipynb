{
 "cells": [
  {
   "attachments": {},
   "cell_type": "markdown",
   "metadata": {},
   "source": [
    "### Pair Programming – EDA III"
   ]
  },
  {
   "attachments": {},
   "cell_type": "markdown",
   "metadata": {},
   "source": [
    "En el ejercicio de hoy tendremos que contestar a las siguientes preguntas:\n",
    "\n",
    "1. Estableced el tamaño de las figuras al inicio de vuestro jupyter para que todas tengan las mismas dimensiones.\n",
    "\n",
    "2. Manos a la obra con los plots, estos irán muy dirigidos hacia las preguntas que queremos contestar, para hacer una primera aproximación a nuestras hipótesis:\n",
    "- ¿Cuántos ataques hubo por pais? ¿Se puede ver algo claro si ploteamos todos los paises? En caso de que no, seleccionad solo los 10 paises con más ataques y volved a hacer el plot.\n",
    "- Usando el DataFrame de los 10 paises con más ataques, ¿hay diferencias entre sexos en esos paises?\n",
    "- ¿Qué edad recibe mayor número de ataques?\n",
    "\n",
    "    💡 Pista 💡 Para que esta gráfica nos salga legible tendremos que crear antes grupos de edad. Para hacer esto de una forma sencilla tenemos el método pd.cut() que aprendimos en la lección de Limpieza II.\n",
    "- Ataques entre sexos, ¿hay diferencia?\n",
    "- ¿Cuando ocurren más ataques? ¿Os sale algo raro en la gráfica? Intentad limpiar un poco los datos para que os salga mejor."
   ]
  },
  {
   "cell_type": "code",
   "execution_count": 42,
   "metadata": {},
   "outputs": [],
   "source": [
    "import pandas as pd\n",
    "import numpy as np\n",
    "import sidetable\n",
    "import matplotlib.pyplot as plt\n",
    "import seaborn as sns\n",
    "import warnings\n",
    "warnings.filterwarnings(\"ignore\")"
   ]
  },
  {
   "cell_type": "code",
   "execution_count": 15,
   "metadata": {},
   "outputs": [],
   "source": [
    "df = pd.read_pickle(\"datos/attacks_pandas_8.pickle\")"
   ]
  },
  {
   "cell_type": "code",
   "execution_count": 16,
   "metadata": {},
   "outputs": [],
   "source": [
    "# Estableced el tamaño de las figuras al inicio de vuestro jupyter para que todas tengan las mismas dimensiones.\n",
    "\n",
    "plt.rcParams[\"figure.figsize\"] = (10, 6)"
   ]
  },
  {
   "cell_type": "code",
   "execution_count": 26,
   "metadata": {},
   "outputs": [
    {
     "data": {
      "text/plain": [
       "nan                   6127\n",
       "usa                    741\n",
       "australia              343\n",
       "south africa           234\n",
       "bahamas                 29\n",
       "                      ... \n",
       "st. maartin              1\n",
       "united kingdom           1\n",
       "sweden                   1\n",
       "iceland                  1\n",
       "ceylon (sri lanka)       1\n",
       "Name: country, Length: 96, dtype: int64"
      ]
     },
     "execution_count": 26,
     "metadata": {},
     "output_type": "execute_result"
    }
   ],
   "source": [
    "df[\"country\"].value_counts()"
   ]
  },
  {
   "cell_type": "code",
   "execution_count": 33,
   "metadata": {},
   "outputs": [
    {
     "data": {
      "text/plain": [
       "pandas.core.frame.DataFrame"
      ]
     },
     "execution_count": 33,
     "metadata": {},
     "output_type": "execute_result"
    }
   ],
   "source": [
    "type(df_country_10)"
   ]
  },
  {
   "cell_type": "code",
   "execution_count": 34,
   "metadata": {},
   "outputs": [
    {
     "data": {
      "text/plain": [
       "Index(['index', 'country'], dtype='object')"
      ]
     },
     "execution_count": 34,
     "metadata": {},
     "output_type": "execute_result"
    }
   ],
   "source": [
    "df_country_10.columns"
   ]
  },
  {
   "cell_type": "code",
   "execution_count": 45,
   "metadata": {},
   "outputs": [
    {
     "data": {
      "image/png": "[encoded data removed]",
      "text/plain": [
       "<Figure size 720x432 with 1 Axes>"
      ]
     },
     "metadata": {
      "needs_background": "light"
     },
     "output_type": "display_data"
    }
   ],
   "source": [
    "# Manos a la obra con los plots, estos irán muy dirigidos hacia las preguntas que queremos contestar, para\n",
    "# hacer una primera aproximación a nuestras hipótesis:\n",
    "# ¿Cuántos ataques hubo por pais? ¿Se puede ver algo claro si ploteamos todos los paises? En caso de que no,\n",
    "# seleccionad solo los 10 paises con más ataques y volved a hacer el plot.\n",
    "\n",
    "df_country = df[\"country\"].value_counts()\n",
    "df_country_10 = df_country[1:11].reset_index()\n",
    "\n",
    "sns.barplot(x = \"index\", y = \"country\", data = df_country_10);"
   ]
  },
  {
   "cell_type": "code",
   "execution_count": 40,
   "metadata": {},
   "outputs": [
    {
     "data": {
      "text/html": [
       "<div>\n",
       "<style scoped>\n",
       "    .dataframe tbody tr th:only-of-type {\n",
       "        vertical-align: middle;\n",
       "    }\n",
       "\n",
       "    .dataframe tbody tr th {\n",
       "        vertical-align: top;\n",
       "    }\n",
       "\n",
       "    .dataframe thead th {\n",
       "        text-align: right;\n",
       "    }\n",
       "</style>\n",
       "<table border=\"1\" class=\"dataframe\">\n",
       "  <thead>\n",
       "    <tr style=\"text-align: right;\">\n",
       "      <th></th>\n",
       "      <th>index</th>\n",
       "      <th>country</th>\n",
       "    </tr>\n",
       "  </thead>\n",
       "  <tbody>\n",
       "    <tr>\n",
       "      <th>0</th>\n",
       "      <td>usa</td>\n",
       "      <td>741</td>\n",
       "    </tr>\n",
       "    <tr>\n",
       "      <th>1</th>\n",
       "      <td>australia</td>\n",
       "      <td>343</td>\n",
       "    </tr>\n",
       "  </tbody>\n",
       "</table>\n",
       "</div>"
      ],
      "text/plain": [
       "       index  country\n",
       "0        usa      741\n",
       "1  australia      343"
      ]
     },
     "execution_count": 40,
     "metadata": {},
     "output_type": "execute_result"
    }
   ],
   "source": [
    "df_country_10.head(2)"
   ]
  },
  {
   "cell_type": "code",
   "execution_count": 53,
   "metadata": {},
   "outputs": [],
   "source": [
    "df_filtrado_10 = df[df[\"country\"].isin([\"usa\", \"australia\", \"south africa\", \"bahamas\", \"new zealand\", \"reunion\", \"brazil\", \"papua new guinea\", \"mexico\", \"italy\"])]"
   ]
  },
  {
   "cell_type": "code",
   "execution_count": 54,
   "metadata": {},
   "outputs": [
    {
     "data": {
      "text/html": [
       "<div>\n",
       "<style scoped>\n",
       "    .dataframe tbody tr th:only-of-type {\n",
       "        vertical-align: middle;\n",
       "    }\n",
       "\n",
       "    .dataframe tbody tr th {\n",
       "        vertical-align: top;\n",
       "    }\n",
       "\n",
       "    .dataframe thead th {\n",
       "        text-align: right;\n",
       "    }\n",
       "</style>\n",
       "<table border=\"1\" class=\"dataframe\">\n",
       "  <thead>\n",
       "    <tr style=\"text-align: right;\">\n",
       "      <th></th>\n",
       "      <th>case_number</th>\n",
       "      <th>year</th>\n",
       "      <th>country</th>\n",
       "      <th>area</th>\n",
       "      <th>location</th>\n",
       "      <th>sex_</th>\n",
       "      <th>age</th>\n",
       "      <th>species_</th>\n",
       "      <th>siglo</th>\n",
       "      <th>injury</th>\n",
       "      <th>date</th>\n",
       "      <th>mes</th>\n",
       "      <th>fatal_(y/n)_limpio</th>\n",
       "      <th>sex</th>\n",
       "      <th>country_</th>\n",
       "    </tr>\n",
       "  </thead>\n",
       "  <tbody>\n",
       "    <tr>\n",
       "      <th>0</th>\n",
       "      <td>2018.06.25</td>\n",
       "      <td>2018</td>\n",
       "      <td>usa</td>\n",
       "      <td>California</td>\n",
       "      <td>Oceanside, San Diego County</td>\n",
       "      <td>F</td>\n",
       "      <td>57</td>\n",
       "      <td>White Shark</td>\n",
       "      <td>siglo XXI</td>\n",
       "      <td>No injury to occupant, outrigger canoe and pad...</td>\n",
       "      <td>25-Jun-2018</td>\n",
       "      <td>Jun</td>\n",
       "      <td>N</td>\n",
       "      <td>F</td>\n",
       "      <td>usa</td>\n",
       "    </tr>\n",
       "    <tr>\n",
       "      <th>1</th>\n",
       "      <td>2018.06.03.a</td>\n",
       "      <td>2018</td>\n",
       "      <td>brazil</td>\n",
       "      <td>Pernambuco</td>\n",
       "      <td>Piedade Beach, Recife</td>\n",
       "      <td>M</td>\n",
       "      <td>18</td>\n",
       "      <td>Tiger Shark</td>\n",
       "      <td>siglo XXI</td>\n",
       "      <td>FATAL</td>\n",
       "      <td>03-Jun-2018</td>\n",
       "      <td>Jun</td>\n",
       "      <td>Y</td>\n",
       "      <td>M</td>\n",
       "      <td>brazil</td>\n",
       "    </tr>\n",
       "  </tbody>\n",
       "</table>\n",
       "</div>"
      ],
      "text/plain": [
       "    case_number  year country        area                     location sex_  \\\n",
       "0    2018.06.25  2018     usa  California  Oceanside, San Diego County    F   \n",
       "1  2018.06.03.a  2018  brazil  Pernambuco        Piedade Beach, Recife    M   \n",
       "\n",
       "  age     species_      siglo  \\\n",
       "0  57  White Shark  siglo XXI   \n",
       "1  18  Tiger Shark  siglo XXI   \n",
       "\n",
       "                                              injury         date  mes  \\\n",
       "0  No injury to occupant, outrigger canoe and pad...  25-Jun-2018  Jun   \n",
       "1                                              FATAL  03-Jun-2018  Jun   \n",
       "\n",
       "  fatal_(y/n)_limpio sex country_  \n",
       "0                  N   F      usa  \n",
       "1                  Y   M   brazil  "
      ]
     },
     "execution_count": 54,
     "metadata": {},
     "output_type": "execute_result"
    }
   ],
   "source": [
    "df_filtrado_10.head(2)"
   ]
  },
  {
   "cell_type": "code",
   "execution_count": 55,
   "metadata": {},
   "outputs": [
    {
     "data": {
      "text/plain": [
       "<AxesSubplot:xlabel='country', ylabel='Count'>"
      ]
     },
     "execution_count": 55,
     "metadata": {},
     "output_type": "execute_result"
    },
    {
     "data": {
      "image/png": "[encoded data removed]",
      "text/plain": [
       "<Figure size 720x432 with 1 Axes>"
      ]
     },
     "metadata": {
      "needs_background": "light"
     },
     "output_type": "display_data"
    }
   ],
   "source": [
    "# Usando el DataFrame de los 10 paises con más ataques, ¿hay diferencias entre sexos en esos paises?\n",
    "\n",
    "sns.histplot(x = \"country\", data = df_filtrado_10, hue = \"sex_\")"
   ]
  },
  {
   "cell_type": "code",
   "execution_count": null,
   "metadata": {},
   "outputs": [],
   "source": [
    "# Ataques entre sexos, ¿hay diferencia?\n",
    "\n"
   ]
  },
  {
   "cell_type": "code",
   "execution_count": null,
   "metadata": {},
   "outputs": [],
   "source": [
    "# ¿Cuando ocurren más ataques? ¿Os sale algo raro en la gráfica? Intentad limpiar un poco los datos para\n",
    "# que os salga mejor.\n",
    "\n"
   ]
  }
 ],
 "metadata": {
  "kernelspec": {
   "display_name": "base",
   "language": "python",
   "name": "python3"
  },
  "language_info": {
   "codemirror_mode": {
    "name": "ipython",
    "version": 3
   },
   "file_extension": ".py",
   "mimetype": "text/x-python",
   "name": "python",
   "nbconvert_exporter": "python",
   "pygments_lexer": "ipython3",
   "version": "3.9.7 (default, Sep 16 2021, 08:50:36) \n[Clang 10.0.0 ]"
  },
  "orig_nbformat": 4,
  "vscode": {
   "interpreter": {
    "hash": "f2db153c52986c069ff377292b192106e7e0a1a0b98e4459b9b4cabd3fa94ab4"
   }
  }
 },
 "nbformat": 4,
 "nbformat_minor": 2
}
