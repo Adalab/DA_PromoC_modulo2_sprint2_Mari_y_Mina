{
 "cells": [
  {
   "cell_type": "code",
   "execution_count": 1,
   "metadata": {},
   "outputs": [],
   "source": [
    "import pandas as pd\n",
    "import sidetable\n",
    "import regex as re\n",
    "import numpy as np\n",
    "import matplotlib.pyplot as plt\n",
    "import seaborn as sns"
   ]
  },
  {
   "cell_type": "code",
   "execution_count": 2,
   "metadata": {},
   "outputs": [],
   "source": [
    "df = pd.read_csv(\"datos/attacks_pandas_9b.csv\", index_col= 0)"
   ]
  },
  {
   "attachments": {},
   "cell_type": "markdown",
   "metadata": {},
   "source": [
    "Lo primero que tenemos que evaluar es en que columnas tenemos nulos y que cantidad tenemos en cada una. ¿Hay alguna columna con una gran cantidad de nulos? En caso de que sea así deberemos eliminarla.\n"
   ]
  },
  {
   "cell_type": "code",
   "execution_count": 3,
   "metadata": {},
   "outputs": [
    {
     "data": {
      "text/html": [
       "<div>\n",
       "<style scoped>\n",
       "    .dataframe tbody tr th:only-of-type {\n",
       "        vertical-align: middle;\n",
       "    }\n",
       "\n",
       "    .dataframe tbody tr th {\n",
       "        vertical-align: top;\n",
       "    }\n",
       "\n",
       "    .dataframe thead th {\n",
       "        text-align: right;\n",
       "    }\n",
       "</style>\n",
       "<table border=\"1\" class=\"dataframe\">\n",
       "  <thead>\n",
       "    <tr style=\"text-align: right;\">\n",
       "      <th></th>\n",
       "      <th>missing</th>\n",
       "      <th>total</th>\n",
       "      <th>percent</th>\n",
       "    </tr>\n",
       "  </thead>\n",
       "  <tbody>\n",
       "    <tr>\n",
       "      <th>age</th>\n",
       "      <td>6275</td>\n",
       "      <td>7789</td>\n",
       "      <td>80.562331</td>\n",
       "    </tr>\n",
       "    <tr>\n",
       "      <th>location</th>\n",
       "      <td>6168</td>\n",
       "      <td>7789</td>\n",
       "      <td>79.188599</td>\n",
       "    </tr>\n",
       "    <tr>\n",
       "      <th>area</th>\n",
       "      <td>6163</td>\n",
       "      <td>7789</td>\n",
       "      <td>79.124406</td>\n",
       "    </tr>\n",
       "    <tr>\n",
       "      <th>country</th>\n",
       "      <td>6127</td>\n",
       "      <td>7789</td>\n",
       "      <td>78.662216</td>\n",
       "    </tr>\n",
       "    <tr>\n",
       "      <th>country_</th>\n",
       "      <td>6127</td>\n",
       "      <td>7789</td>\n",
       "      <td>78.662216</td>\n",
       "    </tr>\n",
       "    <tr>\n",
       "      <th>year</th>\n",
       "      <td>6117</td>\n",
       "      <td>7789</td>\n",
       "      <td>78.533830</td>\n",
       "    </tr>\n",
       "    <tr>\n",
       "      <th>type</th>\n",
       "      <td>6117</td>\n",
       "      <td>7789</td>\n",
       "      <td>78.533830</td>\n",
       "    </tr>\n",
       "    <tr>\n",
       "      <th>mes</th>\n",
       "      <td>2395</td>\n",
       "      <td>7789</td>\n",
       "      <td>30.748491</td>\n",
       "    </tr>\n",
       "    <tr>\n",
       "      <th>fatal_(y/n)_limpio</th>\n",
       "      <td>2111</td>\n",
       "      <td>7789</td>\n",
       "      <td>27.102324</td>\n",
       "    </tr>\n",
       "    <tr>\n",
       "      <th>date</th>\n",
       "      <td>1503</td>\n",
       "      <td>7789</td>\n",
       "      <td>19.296444</td>\n",
       "    </tr>\n",
       "    <tr>\n",
       "      <th>case_number</th>\n",
       "      <td>1</td>\n",
       "      <td>7789</td>\n",
       "      <td>0.012839</td>\n",
       "    </tr>\n",
       "    <tr>\n",
       "      <th>species_</th>\n",
       "      <td>0</td>\n",
       "      <td>7789</td>\n",
       "      <td>0.000000</td>\n",
       "    </tr>\n",
       "    <tr>\n",
       "      <th>sex</th>\n",
       "      <td>0</td>\n",
       "      <td>7789</td>\n",
       "      <td>0.000000</td>\n",
       "    </tr>\n",
       "  </tbody>\n",
       "</table>\n",
       "</div>"
      ],
      "text/plain": [
       "                    missing  total    percent\n",
       "age                    6275   7789  80.562331\n",
       "location               6168   7789  79.188599\n",
       "area                   6163   7789  79.124406\n",
       "country                6127   7789  78.662216\n",
       "country_               6127   7789  78.662216\n",
       "year                   6117   7789  78.533830\n",
       "type                   6117   7789  78.533830\n",
       "mes                    2395   7789  30.748491\n",
       "fatal_(y/n)_limpio     2111   7789  27.102324\n",
       "date                   1503   7789  19.296444\n",
       "case_number               1   7789   0.012839\n",
       "species_                  0   7789   0.000000\n",
       "sex                       0   7789   0.000000"
      ]
     },
     "execution_count": 3,
     "metadata": {},
     "output_type": "execute_result"
    }
   ],
   "source": [
    "df.stb.missing()"
   ]
  },
  {
   "attachments": {},
   "cell_type": "markdown",
   "metadata": {},
   "source": [
    "Vemos que las primeras 9 columnas de 15 tienen más de un 75% de nulos, probablemente haríamos un fichero nuevo sin los nulos, una copia, porque reemplazar los datos en esas columnas, ay que son más de la mitad nos parece que estaríamos falseando mucho los datos, teniendo en cuenta que las mayoría de columnas de las que tiene más de un  75% de nulos son las columnas en las que se basa el estudio de las hipotesis a probar.\n",
    "\n",
    "No obstante para realizar los ejercicios haremos una copia del df y haremos los reemplazos."
   ]
  },
  {
   "cell_type": "code",
   "execution_count": 4,
   "metadata": {},
   "outputs": [],
   "source": [
    "df_copia = df.copy()"
   ]
  },
  {
   "attachments": {},
   "cell_type": "markdown",
   "metadata": {},
   "source": [
    "Es el momento de eliminar los nulos:\n",
    "- Reemplazad los valores nulos de la columna age por la media de la edad, redondeada a dos decimales.\n"
   ]
  },
  {
   "cell_type": "code",
   "execution_count": 5,
   "metadata": {},
   "outputs": [],
   "source": [
    "df[\"age\"] = pd.to_numeric(df[\"age\"])"
   ]
  },
  {
   "cell_type": "code",
   "execution_count": 6,
   "metadata": {},
   "outputs": [
    {
     "data": {
      "image/png": "[encoded data removed]",
      "text/plain": [
       "<Figure size 2880x720 with 1 Axes>"
      ]
     },
     "metadata": {
      "needs_background": "light"
     },
     "output_type": "display_data"
    }
   ],
   "source": [
    "plt.figure(figsize=(40,10))\n",
    "\n",
    "fig = sns.histplot( x=\"age\", data=df_copia, bins=15)\n",
    "\n",
    "#Sacamos el histograma para ver la distribución de los datos y así decidir que método estadístico usar. Usamos la mediana, ya que una media podría alterar mucho los resultados."
   ]
  },
  {
   "cell_type": "code",
   "execution_count": 7,
   "metadata": {},
   "outputs": [
    {
     "data": {
      "text/plain": [
       "25.0"
      ]
     },
     "execution_count": 7,
     "metadata": {},
     "output_type": "execute_result"
    }
   ],
   "source": [
    "df[\"age\"].median()"
   ]
  },
  {
   "cell_type": "markdown",
   "metadata": {},
   "source": [
    "Como la mediana es un número entero, no necesitamos redondear a decimales."
   ]
  },
  {
   "cell_type": "code",
   "execution_count": 8,
   "metadata": {},
   "outputs": [],
   "source": [
    "df_copia[\"age\"].fillna(df[\"age\"].median(), inplace=True)"
   ]
  },
  {
   "cell_type": "code",
   "execution_count": 9,
   "metadata": {},
   "outputs": [
    {
     "data": {
      "text/plain": [
       "0"
      ]
     },
     "execution_count": 9,
     "metadata": {},
     "output_type": "execute_result"
    }
   ],
   "source": [
    "df_copia[\"age\"].isnull().sum()"
   ]
  },
  {
   "cell_type": "code",
   "execution_count": 10,
   "metadata": {},
   "outputs": [
    {
     "data": {
      "text/html": [
       "<div>\n",
       "<style scoped>\n",
       "    .dataframe tbody tr th:only-of-type {\n",
       "        vertical-align: middle;\n",
       "    }\n",
       "\n",
       "    .dataframe tbody tr th {\n",
       "        vertical-align: top;\n",
       "    }\n",
       "\n",
       "    .dataframe thead th {\n",
       "        text-align: right;\n",
       "    }\n",
       "</style>\n",
       "<table border=\"1\" class=\"dataframe\">\n",
       "  <thead>\n",
       "    <tr style=\"text-align: right;\">\n",
       "      <th></th>\n",
       "      <th>case_number</th>\n",
       "      <th>year</th>\n",
       "      <th>type</th>\n",
       "      <th>country</th>\n",
       "      <th>area</th>\n",
       "      <th>location</th>\n",
       "      <th>age</th>\n",
       "      <th>species_</th>\n",
       "      <th>date</th>\n",
       "      <th>mes</th>\n",
       "      <th>fatal_(y/n)_limpio</th>\n",
       "      <th>sex</th>\n",
       "      <th>country_</th>\n",
       "    </tr>\n",
       "  </thead>\n",
       "  <tbody>\n",
       "    <tr>\n",
       "      <th>1405</th>\n",
       "      <td>1951.11.29</td>\n",
       "      <td>1951.0</td>\n",
       "      <td>Unprovoked</td>\n",
       "      <td>south africa</td>\n",
       "      <td>KwaZulu-Natal</td>\n",
       "      <td>South Beach, Durban</td>\n",
       "      <td>23.0</td>\n",
       "      <td>White Shark</td>\n",
       "      <td>NaN</td>\n",
       "      <td>NaN</td>\n",
       "      <td>NaN</td>\n",
       "      <td>M</td>\n",
       "      <td>south africa</td>\n",
       "    </tr>\n",
       "    <tr>\n",
       "      <th>1605</th>\n",
       "      <td>ND.0075</td>\n",
       "      <td>1997.0</td>\n",
       "      <td>Unprovoked</td>\n",
       "      <td>australia</td>\n",
       "      <td>Torres Strait</td>\n",
       "      <td>NaN</td>\n",
       "      <td>25.0</td>\n",
       "      <td>Unspecified</td>\n",
       "      <td>NaN</td>\n",
       "      <td>NaN</td>\n",
       "      <td>NaN</td>\n",
       "      <td>M</td>\n",
       "      <td>australia</td>\n",
       "    </tr>\n",
       "    <tr>\n",
       "      <th>1887</th>\n",
       "      <td>2016.03.26</td>\n",
       "      <td>NaN</td>\n",
       "      <td>NaN</td>\n",
       "      <td>NaN</td>\n",
       "      <td>NaN</td>\n",
       "      <td>NaN</td>\n",
       "      <td>25.0</td>\n",
       "      <td>Unspecified</td>\n",
       "      <td>26-Mar-2016</td>\n",
       "      <td>Mar</td>\n",
       "      <td>N</td>\n",
       "      <td>M</td>\n",
       "      <td>NaN</td>\n",
       "    </tr>\n",
       "    <tr>\n",
       "      <th>7581</th>\n",
       "      <td>1828.09.28</td>\n",
       "      <td>NaN</td>\n",
       "      <td>NaN</td>\n",
       "      <td>NaN</td>\n",
       "      <td>NaN</td>\n",
       "      <td>NaN</td>\n",
       "      <td>25.0</td>\n",
       "      <td>Unspecified</td>\n",
       "      <td>28-Sep-1828</td>\n",
       "      <td>Sep</td>\n",
       "      <td>N</td>\n",
       "      <td>M</td>\n",
       "      <td>NaN</td>\n",
       "    </tr>\n",
       "  </tbody>\n",
       "</table>\n",
       "</div>"
      ],
      "text/plain": [
       "     case_number    year        type       country           area  \\\n",
       "1405  1951.11.29  1951.0  Unprovoked  south africa  KwaZulu-Natal   \n",
       "1605     ND.0075  1997.0  Unprovoked     australia  Torres Strait   \n",
       "1887  2016.03.26     NaN         NaN           NaN            NaN   \n",
       "7581  1828.09.28     NaN         NaN           NaN            NaN   \n",
       "\n",
       "                 location   age     species_         date  mes  \\\n",
       "1405  South Beach, Durban  23.0  White Shark          NaN  NaN   \n",
       "1605                  NaN  25.0  Unspecified          NaN  NaN   \n",
       "1887                  NaN  25.0  Unspecified  26-Mar-2016  Mar   \n",
       "7581                  NaN  25.0  Unspecified  28-Sep-1828  Sep   \n",
       "\n",
       "     fatal_(y/n)_limpio sex      country_  \n",
       "1405                NaN   M  south africa  \n",
       "1605                NaN   M     australia  \n",
       "1887                  N   M           NaN  \n",
       "7581                  N   M           NaN  "
      ]
     },
     "execution_count": 10,
     "metadata": {},
     "output_type": "execute_result"
    }
   ],
   "source": [
    "df_copia.sample(4)"
   ]
  },
  {
   "attachments": {},
   "cell_type": "markdown",
   "metadata": {},
   "source": [
    "En relación a la columna de country al tratarse de una columna de tipo categórica, reemplazad los valores nulos por una nueva categória que se llame Unknown.\n"
   ]
  },
  {
   "cell_type": "code",
   "execution_count": 11,
   "metadata": {},
   "outputs": [],
   "source": [
    "df_copia[\"country\"].replace(np.nan,\"Unknown\", inplace=True)"
   ]
  },
  {
   "cell_type": "code",
   "execution_count": 12,
   "metadata": {},
   "outputs": [
    {
     "data": {
      "text/plain": [
       "0"
      ]
     },
     "execution_count": 12,
     "metadata": {},
     "output_type": "execute_result"
    }
   ],
   "source": [
    "df_copia[\"country\"].isnull().sum()"
   ]
  },
  {
   "cell_type": "code",
   "execution_count": 13,
   "metadata": {},
   "outputs": [
    {
     "data": {
      "text/html": [
       "<div>\n",
       "<style scoped>\n",
       "    .dataframe tbody tr th:only-of-type {\n",
       "        vertical-align: middle;\n",
       "    }\n",
       "\n",
       "    .dataframe tbody tr th {\n",
       "        vertical-align: top;\n",
       "    }\n",
       "\n",
       "    .dataframe thead th {\n",
       "        text-align: right;\n",
       "    }\n",
       "</style>\n",
       "<table border=\"1\" class=\"dataframe\">\n",
       "  <thead>\n",
       "    <tr style=\"text-align: right;\">\n",
       "      <th></th>\n",
       "      <th>case_number</th>\n",
       "      <th>year</th>\n",
       "      <th>type</th>\n",
       "      <th>country</th>\n",
       "      <th>area</th>\n",
       "      <th>location</th>\n",
       "      <th>age</th>\n",
       "      <th>species_</th>\n",
       "      <th>date</th>\n",
       "      <th>mes</th>\n",
       "      <th>fatal_(y/n)_limpio</th>\n",
       "      <th>sex</th>\n",
       "      <th>country_</th>\n",
       "    </tr>\n",
       "  </thead>\n",
       "  <tbody>\n",
       "    <tr>\n",
       "      <th>5063</th>\n",
       "      <td>1966.07.02</td>\n",
       "      <td>NaN</td>\n",
       "      <td>NaN</td>\n",
       "      <td>Unknown</td>\n",
       "      <td>NaN</td>\n",
       "      <td>NaN</td>\n",
       "      <td>25.0</td>\n",
       "      <td>Unspecified</td>\n",
       "      <td>02-Jul-1966</td>\n",
       "      <td>Jul</td>\n",
       "      <td>N</td>\n",
       "      <td>F</td>\n",
       "      <td>NaN</td>\n",
       "    </tr>\n",
       "    <tr>\n",
       "      <th>2617</th>\n",
       "      <td>2009.06.02.b</td>\n",
       "      <td>NaN</td>\n",
       "      <td>NaN</td>\n",
       "      <td>Unknown</td>\n",
       "      <td>NaN</td>\n",
       "      <td>NaN</td>\n",
       "      <td>25.0</td>\n",
       "      <td>Unspecified</td>\n",
       "      <td>02-Jun-2009</td>\n",
       "      <td>Jun</td>\n",
       "      <td>N</td>\n",
       "      <td>F</td>\n",
       "      <td>NaN</td>\n",
       "    </tr>\n",
       "    <tr>\n",
       "      <th>4829</th>\n",
       "      <td>1972.04.01.a</td>\n",
       "      <td>NaN</td>\n",
       "      <td>NaN</td>\n",
       "      <td>Unknown</td>\n",
       "      <td>NaN</td>\n",
       "      <td>NaN</td>\n",
       "      <td>25.0</td>\n",
       "      <td>Unspecified</td>\n",
       "      <td>01-Apr-1972</td>\n",
       "      <td>Apr</td>\n",
       "      <td>Y</td>\n",
       "      <td>F</td>\n",
       "      <td>NaN</td>\n",
       "    </tr>\n",
       "    <tr>\n",
       "      <th>378</th>\n",
       "      <td>2009.07.04</td>\n",
       "      <td>2009.0</td>\n",
       "      <td>Provoked</td>\n",
       "      <td>usa</td>\n",
       "      <td>Florida</td>\n",
       "      <td>Biscayne National Park, Miami</td>\n",
       "      <td>43.0</td>\n",
       "      <td>Unspecified</td>\n",
       "      <td>NaN</td>\n",
       "      <td>NaN</td>\n",
       "      <td>NaN</td>\n",
       "      <td>F</td>\n",
       "      <td>usa</td>\n",
       "    </tr>\n",
       "  </tbody>\n",
       "</table>\n",
       "</div>"
      ],
      "text/plain": [
       "       case_number    year      type  country     area  \\\n",
       "5063    1966.07.02     NaN       NaN  Unknown      NaN   \n",
       "2617  2009.06.02.b     NaN       NaN  Unknown      NaN   \n",
       "4829  1972.04.01.a     NaN       NaN  Unknown      NaN   \n",
       "378     2009.07.04  2009.0  Provoked      usa  Florida   \n",
       "\n",
       "                           location   age     species_         date  mes  \\\n",
       "5063                            NaN  25.0  Unspecified  02-Jul-1966  Jul   \n",
       "2617                            NaN  25.0  Unspecified  02-Jun-2009  Jun   \n",
       "4829                            NaN  25.0  Unspecified  01-Apr-1972  Apr   \n",
       "378   Biscayne National Park, Miami  43.0  Unspecified          NaN  NaN   \n",
       "\n",
       "     fatal_(y/n)_limpio sex country_  \n",
       "5063                  N   F      NaN  \n",
       "2617                  N   F      NaN  \n",
       "4829                  Y   F      NaN  \n",
       "378                 NaN   F      usa  "
      ]
     },
     "execution_count": 13,
     "metadata": {},
     "output_type": "execute_result"
    }
   ],
   "source": [
    "df_copia.sample(4)"
   ]
  },
  {
   "attachments": {},
   "cell_type": "markdown",
   "metadata": {},
   "source": [
    "Reemplazad los valores nulos de la columna fatal por Unknown.\n"
   ]
  },
  {
   "cell_type": "code",
   "execution_count": 14,
   "metadata": {},
   "outputs": [],
   "source": [
    "df_copia[\"fatal_(y/n)_limpio\"].fillna(\"Unknown\", inplace=True)"
   ]
  },
  {
   "cell_type": "code",
   "execution_count": 15,
   "metadata": {},
   "outputs": [
    {
     "data": {
      "text/plain": [
       "0"
      ]
     },
     "execution_count": 15,
     "metadata": {},
     "output_type": "execute_result"
    }
   ],
   "source": [
    "df_copia[\"fatal_(y/n)_limpio\"].isnull().sum()"
   ]
  },
  {
   "cell_type": "code",
   "execution_count": 16,
   "metadata": {},
   "outputs": [
    {
     "data": {
      "text/html": [
       "<div>\n",
       "<style scoped>\n",
       "    .dataframe tbody tr th:only-of-type {\n",
       "        vertical-align: middle;\n",
       "    }\n",
       "\n",
       "    .dataframe tbody tr th {\n",
       "        vertical-align: top;\n",
       "    }\n",
       "\n",
       "    .dataframe thead th {\n",
       "        text-align: right;\n",
       "    }\n",
       "</style>\n",
       "<table border=\"1\" class=\"dataframe\">\n",
       "  <thead>\n",
       "    <tr style=\"text-align: right;\">\n",
       "      <th></th>\n",
       "      <th>case_number</th>\n",
       "      <th>year</th>\n",
       "      <th>type</th>\n",
       "      <th>country</th>\n",
       "      <th>area</th>\n",
       "      <th>location</th>\n",
       "      <th>age</th>\n",
       "      <th>species_</th>\n",
       "      <th>date</th>\n",
       "      <th>mes</th>\n",
       "      <th>fatal_(y/n)_limpio</th>\n",
       "      <th>sex</th>\n",
       "      <th>country_</th>\n",
       "    </tr>\n",
       "  </thead>\n",
       "  <tbody>\n",
       "    <tr>\n",
       "      <th>5268</th>\n",
       "      <td>1962.12.09</td>\n",
       "      <td>NaN</td>\n",
       "      <td>NaN</td>\n",
       "      <td>Unknown</td>\n",
       "      <td>NaN</td>\n",
       "      <td>NaN</td>\n",
       "      <td>25.0</td>\n",
       "      <td>Unspecified</td>\n",
       "      <td>09-Dec-1962</td>\n",
       "      <td>Dec</td>\n",
       "      <td>Y</td>\n",
       "      <td>M</td>\n",
       "      <td>NaN</td>\n",
       "    </tr>\n",
       "    <tr>\n",
       "      <th>826</th>\n",
       "      <td>1998.05.16.c</td>\n",
       "      <td>1998.0</td>\n",
       "      <td>Unprovoked</td>\n",
       "      <td>usa</td>\n",
       "      <td>Florida</td>\n",
       "      <td>Pecks Lake, Martin County</td>\n",
       "      <td>14.0</td>\n",
       "      <td>Unspecified</td>\n",
       "      <td>NaN</td>\n",
       "      <td>NaN</td>\n",
       "      <td>Unknown</td>\n",
       "      <td>F</td>\n",
       "      <td>usa</td>\n",
       "    </tr>\n",
       "    <tr>\n",
       "      <th>1552</th>\n",
       "      <td>ND-0153</td>\n",
       "      <td>1997.0</td>\n",
       "      <td>Unprovoked</td>\n",
       "      <td>kenya</td>\n",
       "      <td>Mombasa</td>\n",
       "      <td>Kilindini</td>\n",
       "      <td>25.0</td>\n",
       "      <td>Unspecified</td>\n",
       "      <td>NaN</td>\n",
       "      <td>NaN</td>\n",
       "      <td>Unknown</td>\n",
       "      <td>M</td>\n",
       "      <td>kenya</td>\n",
       "    </tr>\n",
       "    <tr>\n",
       "      <th>6133</th>\n",
       "      <td>1944.08.20</td>\n",
       "      <td>NaN</td>\n",
       "      <td>NaN</td>\n",
       "      <td>Unknown</td>\n",
       "      <td>NaN</td>\n",
       "      <td>NaN</td>\n",
       "      <td>25.0</td>\n",
       "      <td>Unspecified</td>\n",
       "      <td>20-Aug-1944</td>\n",
       "      <td>Aug</td>\n",
       "      <td>Y</td>\n",
       "      <td>F</td>\n",
       "      <td>NaN</td>\n",
       "    </tr>\n",
       "  </tbody>\n",
       "</table>\n",
       "</div>"
      ],
      "text/plain": [
       "       case_number    year        type  country     area  \\\n",
       "5268    1962.12.09     NaN         NaN  Unknown      NaN   \n",
       "826   1998.05.16.c  1998.0  Unprovoked      usa  Florida   \n",
       "1552       ND-0153  1997.0  Unprovoked    kenya  Mombasa   \n",
       "6133    1944.08.20     NaN         NaN  Unknown      NaN   \n",
       "\n",
       "                       location   age     species_         date  mes  \\\n",
       "5268                        NaN  25.0  Unspecified  09-Dec-1962  Dec   \n",
       "826   Pecks Lake, Martin County  14.0  Unspecified          NaN  NaN   \n",
       "1552                  Kilindini  25.0  Unspecified          NaN  NaN   \n",
       "6133                        NaN  25.0  Unspecified  20-Aug-1944  Aug   \n",
       "\n",
       "     fatal_(y/n)_limpio sex country_  \n",
       "5268                  Y   M      NaN  \n",
       "826             Unknown   F      usa  \n",
       "1552            Unknown   M    kenya  \n",
       "6133                  Y   F      NaN  "
      ]
     },
     "execution_count": 16,
     "metadata": {},
     "output_type": "execute_result"
    }
   ],
   "source": [
    "df_copia.sample(4)"
   ]
  },
  {
   "attachments": {},
   "cell_type": "markdown",
   "metadata": {},
   "source": [
    "Reemplazad los valores nulos de la columna type por el valor más frecuente (la moda).\n"
   ]
  },
  {
   "cell_type": "code",
   "execution_count": 17,
   "metadata": {},
   "outputs": [],
   "source": [
    "# Como en base a las preguntas de la hipotesis hemos borrado la columna type, ya que hemos interpretado que la en esta pregunta: \"¿Cuál es la relación entre la especie y el tipo de ataque (si es fatal o no)?\"\n",
    "# Se refería a si era fatal o no, vamos a aplicar este  ejercicio sobre la columna \"injury\", que también es de tipo categórico."
   ]
  },
  {
   "cell_type": "code",
   "execution_count": 18,
   "metadata": {},
   "outputs": [],
   "source": [
    "df_copia[\"type\"].replace(np.nan, df_copia[\"type\"].mode()[0], inplace=True)"
   ]
  },
  {
   "cell_type": "code",
   "execution_count": 19,
   "metadata": {},
   "outputs": [
    {
     "data": {
      "text/plain": [
       "0"
      ]
     },
     "execution_count": 19,
     "metadata": {},
     "output_type": "execute_result"
    }
   ],
   "source": [
    "df_copia[\"type\"].isnull().sum()"
   ]
  },
  {
   "cell_type": "code",
   "execution_count": 20,
   "metadata": {},
   "outputs": [
    {
     "data": {
      "text/html": [
       "<div>\n",
       "<style scoped>\n",
       "    .dataframe tbody tr th:only-of-type {\n",
       "        vertical-align: middle;\n",
       "    }\n",
       "\n",
       "    .dataframe tbody tr th {\n",
       "        vertical-align: top;\n",
       "    }\n",
       "\n",
       "    .dataframe thead th {\n",
       "        text-align: right;\n",
       "    }\n",
       "</style>\n",
       "<table border=\"1\" class=\"dataframe\">\n",
       "  <thead>\n",
       "    <tr style=\"text-align: right;\">\n",
       "      <th></th>\n",
       "      <th>case_number</th>\n",
       "      <th>year</th>\n",
       "      <th>type</th>\n",
       "      <th>country</th>\n",
       "      <th>area</th>\n",
       "      <th>location</th>\n",
       "      <th>age</th>\n",
       "      <th>species_</th>\n",
       "      <th>date</th>\n",
       "      <th>mes</th>\n",
       "      <th>fatal_(y/n)_limpio</th>\n",
       "      <th>sex</th>\n",
       "      <th>country_</th>\n",
       "    </tr>\n",
       "  </thead>\n",
       "  <tbody>\n",
       "    <tr>\n",
       "      <th>5656</th>\n",
       "      <td>1958.02.19</td>\n",
       "      <td>NaN</td>\n",
       "      <td>Unprovoked</td>\n",
       "      <td>Unknown</td>\n",
       "      <td>NaN</td>\n",
       "      <td>NaN</td>\n",
       "      <td>25.0</td>\n",
       "      <td>Unspecified</td>\n",
       "      <td>19-Feb-1958</td>\n",
       "      <td>Feb</td>\n",
       "      <td>Unknown</td>\n",
       "      <td>M</td>\n",
       "      <td>NaN</td>\n",
       "    </tr>\n",
       "    <tr>\n",
       "      <th>7328</th>\n",
       "      <td>1878.08.09</td>\n",
       "      <td>NaN</td>\n",
       "      <td>Unprovoked</td>\n",
       "      <td>Unknown</td>\n",
       "      <td>NaN</td>\n",
       "      <td>NaN</td>\n",
       "      <td>25.0</td>\n",
       "      <td>Unspecified</td>\n",
       "      <td>09-Aug-1878</td>\n",
       "      <td>Aug</td>\n",
       "      <td>Y</td>\n",
       "      <td>M</td>\n",
       "      <td>NaN</td>\n",
       "    </tr>\n",
       "  </tbody>\n",
       "</table>\n",
       "</div>"
      ],
      "text/plain": [
       "     case_number  year        type  country area location   age     species_  \\\n",
       "5656  1958.02.19   NaN  Unprovoked  Unknown  NaN      NaN  25.0  Unspecified   \n",
       "7328  1878.08.09   NaN  Unprovoked  Unknown  NaN      NaN  25.0  Unspecified   \n",
       "\n",
       "             date  mes fatal_(y/n)_limpio sex country_  \n",
       "5656  19-Feb-1958  Feb            Unknown   M      NaN  \n",
       "7328  09-Aug-1878  Aug                  Y   M      NaN  "
      ]
     },
     "execution_count": 20,
     "metadata": {},
     "output_type": "execute_result"
    }
   ],
   "source": [
    "df_copia.sample(2)"
   ]
  },
  {
   "cell_type": "code",
   "execution_count": 21,
   "metadata": {},
   "outputs": [
    {
     "data": {
      "text/html": [
       "<div>\n",
       "<style scoped>\n",
       "    .dataframe tbody tr th:only-of-type {\n",
       "        vertical-align: middle;\n",
       "    }\n",
       "\n",
       "    .dataframe tbody tr th {\n",
       "        vertical-align: top;\n",
       "    }\n",
       "\n",
       "    .dataframe thead th {\n",
       "        text-align: right;\n",
       "    }\n",
       "</style>\n",
       "<table border=\"1\" class=\"dataframe\">\n",
       "  <thead>\n",
       "    <tr style=\"text-align: right;\">\n",
       "      <th></th>\n",
       "      <th>case_number</th>\n",
       "      <th>year</th>\n",
       "      <th>type</th>\n",
       "      <th>country</th>\n",
       "      <th>area</th>\n",
       "      <th>location</th>\n",
       "      <th>age</th>\n",
       "      <th>species_</th>\n",
       "      <th>date</th>\n",
       "      <th>mes</th>\n",
       "      <th>fatal_(y/n)_limpio</th>\n",
       "      <th>sex</th>\n",
       "      <th>country_</th>\n",
       "    </tr>\n",
       "  </thead>\n",
       "  <tbody>\n",
       "    <tr>\n",
       "      <th>2401</th>\n",
       "      <td>2011.06.29</td>\n",
       "      <td>NaN</td>\n",
       "      <td>Unprovoked</td>\n",
       "      <td>Unknown</td>\n",
       "      <td>NaN</td>\n",
       "      <td>NaN</td>\n",
       "      <td>25.0</td>\n",
       "      <td>Unspecified</td>\n",
       "      <td>29-Jun-2011</td>\n",
       "      <td>Jun</td>\n",
       "      <td>N</td>\n",
       "      <td>M</td>\n",
       "      <td>NaN</td>\n",
       "    </tr>\n",
       "    <tr>\n",
       "      <th>7602</th>\n",
       "      <td>1815.10.00</td>\n",
       "      <td>NaN</td>\n",
       "      <td>Unprovoked</td>\n",
       "      <td>Unknown</td>\n",
       "      <td>NaN</td>\n",
       "      <td>NaN</td>\n",
       "      <td>25.0</td>\n",
       "      <td>Unspecified</td>\n",
       "      <td>October 1815</td>\n",
       "      <td>NaN</td>\n",
       "      <td>Y</td>\n",
       "      <td>M</td>\n",
       "      <td>NaN</td>\n",
       "    </tr>\n",
       "    <tr>\n",
       "      <th>3593</th>\n",
       "      <td>1999.09.24</td>\n",
       "      <td>NaN</td>\n",
       "      <td>Unprovoked</td>\n",
       "      <td>Unknown</td>\n",
       "      <td>NaN</td>\n",
       "      <td>NaN</td>\n",
       "      <td>25.0</td>\n",
       "      <td>Unspecified</td>\n",
       "      <td>24-Sep-1999</td>\n",
       "      <td>Sep</td>\n",
       "      <td>N</td>\n",
       "      <td>M</td>\n",
       "      <td>NaN</td>\n",
       "    </tr>\n",
       "    <tr>\n",
       "      <th>1205</th>\n",
       "      <td>1967.08.00.b</td>\n",
       "      <td>1967.0</td>\n",
       "      <td>Unprovoked</td>\n",
       "      <td>bahamas</td>\n",
       "      <td>Out Islands</td>\n",
       "      <td>Andros Island</td>\n",
       "      <td>41.0</td>\n",
       "      <td>Unspecified</td>\n",
       "      <td>NaN</td>\n",
       "      <td>NaN</td>\n",
       "      <td>Unknown</td>\n",
       "      <td>M</td>\n",
       "      <td>bahamas</td>\n",
       "    </tr>\n",
       "    <tr>\n",
       "      <th>7520</th>\n",
       "      <td>1849.01.27</td>\n",
       "      <td>NaN</td>\n",
       "      <td>Unprovoked</td>\n",
       "      <td>Unknown</td>\n",
       "      <td>NaN</td>\n",
       "      <td>NaN</td>\n",
       "      <td>25.0</td>\n",
       "      <td>Unspecified</td>\n",
       "      <td>27-Jan-1849</td>\n",
       "      <td>Jan</td>\n",
       "      <td>Unknown</td>\n",
       "      <td>F</td>\n",
       "      <td>NaN</td>\n",
       "    </tr>\n",
       "  </tbody>\n",
       "</table>\n",
       "</div>"
      ],
      "text/plain": [
       "       case_number    year        type  country         area       location  \\\n",
       "2401    2011.06.29     NaN  Unprovoked  Unknown          NaN            NaN   \n",
       "7602    1815.10.00     NaN  Unprovoked  Unknown          NaN            NaN   \n",
       "3593    1999.09.24     NaN  Unprovoked  Unknown          NaN            NaN   \n",
       "1205  1967.08.00.b  1967.0  Unprovoked  bahamas  Out Islands  Andros Island   \n",
       "7520    1849.01.27     NaN  Unprovoked  Unknown          NaN            NaN   \n",
       "\n",
       "       age     species_          date  mes fatal_(y/n)_limpio sex country_  \n",
       "2401  25.0  Unspecified   29-Jun-2011  Jun                  N   M      NaN  \n",
       "7602  25.0  Unspecified  October 1815  NaN                  Y   M      NaN  \n",
       "3593  25.0  Unspecified   24-Sep-1999  Sep                  N   M      NaN  \n",
       "1205  41.0  Unspecified           NaN  NaN            Unknown   M  bahamas  \n",
       "7520  25.0  Unspecified   27-Jan-1849  Jan            Unknown   F      NaN  "
      ]
     },
     "execution_count": 21,
     "metadata": {},
     "output_type": "execute_result"
    }
   ],
   "source": [
    "df_copia.sample(5)"
   ]
  },
  {
   "attachments": {},
   "cell_type": "markdown",
   "metadata": {},
   "source": [
    "Reemplazad los valores nulos de la columna fecha por Unknown.\n"
   ]
  },
  {
   "cell_type": "code",
   "execution_count": 22,
   "metadata": {},
   "outputs": [],
   "source": [
    "df_copia[\"date\"].replace(np.nan, \"Unknown\", inplace=True)"
   ]
  },
  {
   "cell_type": "code",
   "execution_count": 23,
   "metadata": {},
   "outputs": [
    {
     "data": {
      "text/plain": [
       "0"
      ]
     },
     "execution_count": 23,
     "metadata": {},
     "output_type": "execute_result"
    }
   ],
   "source": [
    "df_copia[\"date\"].isnull().sum()"
   ]
  },
  {
   "attachments": {},
   "cell_type": "markdown",
   "metadata": {},
   "source": [
    "Guardad el csv para seguir trabajando con el en los siguientes ejercicios de pair"
   ]
  },
  {
   "cell_type": "code",
   "execution_count": 24,
   "metadata": {},
   "outputs": [],
   "source": [
    "df_copia.to_csv(\"datos/attacks_pandas_10b.csv\")"
   ]
  }
 ],
 "metadata": {
  "kernelspec": {
   "display_name": "base",
   "language": "python",
   "name": "python3"
  },
  "language_info": {
   "codemirror_mode": {
    "name": "ipython",
    "version": 3
   },
   "file_extension": ".py",
   "mimetype": "text/x-python",
   "name": "python",
   "nbconvert_exporter": "python",
   "pygments_lexer": "ipython3",
   "version": "3.9.7"
  },
  "orig_nbformat": 4,
  "vscode": {
   "interpreter": {
    "hash": "b3191f930eabfdf0eb39086a24df618ea48425015dbb471465fb2c793fed20fd"
   }
  }
 },
 "nbformat": 4,
 "nbformat_minor": 2
}
