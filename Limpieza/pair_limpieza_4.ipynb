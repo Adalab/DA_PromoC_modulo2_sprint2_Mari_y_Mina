{
 "cells": [
  {
   "cell_type": "code",
   "execution_count": 1,
   "metadata": {},
   "outputs": [],
   "source": [
    "import pandas as pd\n",
    "import sidetable\n",
    "import regex as re\n",
    "import numpy as np\n",
    "import matplotlib.pyplot as plt\n",
    "import seaborn as sns"
   ]
  },
  {
   "cell_type": "code",
   "execution_count": 2,
   "metadata": {},
   "outputs": [],
   "source": [
    "df = pd.read_csv(\"datos/attacks_pandas_9b.csv\", index_col= 0)"
   ]
  },
  {
   "attachments": {},
   "cell_type": "markdown",
   "metadata": {},
   "source": [
    "Lo primero que tenemos que evaluar es en que columnas tenemos nulos y que cantidad tenemos en cada una. ¿Hay alguna columna con una gran cantidad de nulos? En caso de que sea así deberemos eliminarla.\n"
   ]
  },
  {
   "cell_type": "code",
   "execution_count": 3,
   "metadata": {},
   "outputs": [
    {
     "data": {
      "text/html": [
       "<div>\n",
       "<style scoped>\n",
       "    .dataframe tbody tr th:only-of-type {\n",
       "        vertical-align: middle;\n",
       "    }\n",
       "\n",
       "    .dataframe tbody tr th {\n",
       "        vertical-align: top;\n",
       "    }\n",
       "\n",
       "    .dataframe thead th {\n",
       "        text-align: right;\n",
       "    }\n",
       "</style>\n",
       "<table border=\"1\" class=\"dataframe\">\n",
       "  <thead>\n",
       "    <tr style=\"text-align: right;\">\n",
       "      <th></th>\n",
       "      <th>missing</th>\n",
       "      <th>total</th>\n",
       "      <th>percent</th>\n",
       "    </tr>\n",
       "  </thead>\n",
       "  <tbody>\n",
       "    <tr>\n",
       "      <th>age</th>\n",
       "      <td>6275</td>\n",
       "      <td>7789</td>\n",
       "      <td>80.562331</td>\n",
       "    </tr>\n",
       "    <tr>\n",
       "      <th>location</th>\n",
       "      <td>6168</td>\n",
       "      <td>7789</td>\n",
       "      <td>79.188599</td>\n",
       "    </tr>\n",
       "    <tr>\n",
       "      <th>area</th>\n",
       "      <td>6163</td>\n",
       "      <td>7789</td>\n",
       "      <td>79.124406</td>\n",
       "    </tr>\n",
       "    <tr>\n",
       "      <th>country</th>\n",
       "      <td>6127</td>\n",
       "      <td>7789</td>\n",
       "      <td>78.662216</td>\n",
       "    </tr>\n",
       "    <tr>\n",
       "      <th>country_</th>\n",
       "      <td>6127</td>\n",
       "      <td>7789</td>\n",
       "      <td>78.662216</td>\n",
       "    </tr>\n",
       "    <tr>\n",
       "      <th>year</th>\n",
       "      <td>6117</td>\n",
       "      <td>7789</td>\n",
       "      <td>78.533830</td>\n",
       "    </tr>\n",
       "    <tr>\n",
       "      <th>type</th>\n",
       "      <td>6117</td>\n",
       "      <td>7789</td>\n",
       "      <td>78.533830</td>\n",
       "    </tr>\n",
       "    <tr>\n",
       "      <th>mes</th>\n",
       "      <td>2395</td>\n",
       "      <td>7789</td>\n",
       "      <td>30.748491</td>\n",
       "    </tr>\n",
       "    <tr>\n",
       "      <th>fatal_(y/n)_limpio</th>\n",
       "      <td>2111</td>\n",
       "      <td>7789</td>\n",
       "      <td>27.102324</td>\n",
       "    </tr>\n",
       "    <tr>\n",
       "      <th>date</th>\n",
       "      <td>1503</td>\n",
       "      <td>7789</td>\n",
       "      <td>19.296444</td>\n",
       "    </tr>\n",
       "    <tr>\n",
       "      <th>case_number</th>\n",
       "      <td>1</td>\n",
       "      <td>7789</td>\n",
       "      <td>0.012839</td>\n",
       "    </tr>\n",
       "    <tr>\n",
       "      <th>species_</th>\n",
       "      <td>0</td>\n",
       "      <td>7789</td>\n",
       "      <td>0.000000</td>\n",
       "    </tr>\n",
       "    <tr>\n",
       "      <th>sex</th>\n",
       "      <td>0</td>\n",
       "      <td>7789</td>\n",
       "      <td>0.000000</td>\n",
       "    </tr>\n",
       "  </tbody>\n",
       "</table>\n",
       "</div>"
      ],
      "text/plain": [
       "                    missing  total    percent\n",
       "age                    6275   7789  80.562331\n",
       "location               6168   7789  79.188599\n",
       "area                   6163   7789  79.124406\n",
       "country                6127   7789  78.662216\n",
       "country_               6127   7789  78.662216\n",
       "year                   6117   7789  78.533830\n",
       "type                   6117   7789  78.533830\n",
       "mes                    2395   7789  30.748491\n",
       "fatal_(y/n)_limpio     2111   7789  27.102324\n",
       "date                   1503   7789  19.296444\n",
       "case_number               1   7789   0.012839\n",
       "species_                  0   7789   0.000000\n",
       "sex                       0   7789   0.000000"
      ]
     },
     "execution_count": 3,
     "metadata": {},
     "output_type": "execute_result"
    }
   ],
   "source": [
    "df.stb.missing()"
   ]
  },
  {
   "attachments": {},
   "cell_type": "markdown",
   "metadata": {},
   "source": [
    "Vemos que las primeras 9 columnas de 15 tienen más de un 75% de nulos, probablemente haríamos un fichero nuevo sin los nulos, una copia, porque reemplazar los datos en esas columnas, ay que son más de la mitad nos parece que estaríamos falseando mucho los datos, teniendo en cuenta que las mayoría de columnas de las que tiene más de un  75% de nulos son las columnas en las que se basa el estudio de las hipotesis a probar.\n",
    "\n",
    "No obstante para realizar los ejercicios haremos una copia del df y haremos los reemplazos."
   ]
  },
  {
   "cell_type": "code",
   "execution_count": 4,
   "metadata": {},
   "outputs": [],
   "source": [
    "df_copia = df.copy()"
   ]
  },
  {
   "attachments": {},
   "cell_type": "markdown",
   "metadata": {},
   "source": [
    "Es el momento de eliminar los nulos:\n",
    "- Reemplazad los valores nulos de la columna age por la media de la edad, redondeada a dos decimales.\n"
   ]
  },
  {
   "cell_type": "code",
   "execution_count": 5,
   "metadata": {},
   "outputs": [],
   "source": [
    "df[\"age\"] = pd.to_numeric(df[\"age\"])"
   ]
  },
  {
   "cell_type": "code",
   "execution_count": 6,
   "metadata": {},
   "outputs": [
    {
     "data": {
      "image/png": "[encoded data removed]",
      "text/plain": [
       "<Figure size 2880x720 with 1 Axes>"
      ]
     },
     "metadata": {
      "needs_background": "light"
     },
     "output_type": "display_data"
    }
   ],
   "source": [
    "plt.figure(figsize=(40,10))\n",
    "\n",
    "fig = sns.histplot( x=\"age\", data=df_copia, bins=15)\n",
    "\n",
    "#Sacamos el histograma para ver la distribución de los datos y así decidir que método estadístico usar. Usamos la mediana, ya que una media podría alterar mucho los resultados."
   ]
  },
  {
   "cell_type": "code",
   "execution_count": 7,
   "metadata": {},
   "outputs": [
    {
     "data": {
      "text/plain": [
       "25.0"
      ]
     },
     "execution_count": 7,
     "metadata": {},
     "output_type": "execute_result"
    }
   ],
   "source": [
    "df[\"age\"].median()"
   ]
  },
  {
   "cell_type": "markdown",
   "metadata": {},
   "source": [
    "Como la mediana es un número entero, no necesitamos redondear a decimales."
   ]
  },
  {
   "cell_type": "code",
   "execution_count": 8,
   "metadata": {},
   "outputs": [],
   "source": [
    "df_copia[\"age\"].fillna(df[\"age\"].median(), inplace=True)"
   ]
  },
  {
   "cell_type": "code",
   "execution_count": 9,
   "metadata": {},
   "outputs": [
    {
     "data": {
      "text/plain": [
       "0"
      ]
     },
     "execution_count": 9,
     "metadata": {},
     "output_type": "execute_result"
    }
   ],
   "source": [
    "df_copia[\"age\"].isnull().sum()"
   ]
  },
  {
   "cell_type": "code",
   "execution_count": 10,
   "metadata": {},
   "outputs": [
    {
     "data": {
      "text/html": [
       "<div>\n",
       "<style scoped>\n",
       "    .dataframe tbody tr th:only-of-type {\n",
       "        vertical-align: middle;\n",
       "    }\n",
       "\n",
       "    .dataframe tbody tr th {\n",
       "        vertical-align: top;\n",
       "    }\n",
       "\n",
       "    .dataframe thead th {\n",
       "        text-align: right;\n",
       "    }\n",
       "</style>\n",
       "<table border=\"1\" class=\"dataframe\">\n",
       "  <thead>\n",
       "    <tr style=\"text-align: right;\">\n",
       "      <th></th>\n",
       "      <th>case_number</th>\n",
       "      <th>year</th>\n",
       "      <th>type</th>\n",
       "      <th>country</th>\n",
       "      <th>area</th>\n",
       "      <th>location</th>\n",
       "      <th>age</th>\n",
       "      <th>species_</th>\n",
       "      <th>date</th>\n",
       "      <th>mes</th>\n",
       "      <th>fatal_(y/n)_limpio</th>\n",
       "      <th>sex</th>\n",
       "      <th>country_</th>\n",
       "    </tr>\n",
       "  </thead>\n",
       "  <tbody>\n",
       "    <tr>\n",
       "      <th>4369</th>\n",
       "      <td>1984.10.17</td>\n",
       "      <td>NaN</td>\n",
       "      <td>NaN</td>\n",
       "      <td>NaN</td>\n",
       "      <td>NaN</td>\n",
       "      <td>NaN</td>\n",
       "      <td>25.0</td>\n",
       "      <td>Unspecified</td>\n",
       "      <td>17-Oct-1984</td>\n",
       "      <td>Oct</td>\n",
       "      <td>NaN</td>\n",
       "      <td>M</td>\n",
       "      <td>NaN</td>\n",
       "    </tr>\n",
       "    <tr>\n",
       "      <th>3903</th>\n",
       "      <td>1994.12.11</td>\n",
       "      <td>NaN</td>\n",
       "      <td>NaN</td>\n",
       "      <td>NaN</td>\n",
       "      <td>NaN</td>\n",
       "      <td>NaN</td>\n",
       "      <td>25.0</td>\n",
       "      <td>Unspecified</td>\n",
       "      <td>11-Dec-1994</td>\n",
       "      <td>Dec</td>\n",
       "      <td>N</td>\n",
       "      <td>M</td>\n",
       "      <td>NaN</td>\n",
       "    </tr>\n",
       "    <tr>\n",
       "      <th>353</th>\n",
       "      <td>2010.04.13</td>\n",
       "      <td>2010.0</td>\n",
       "      <td>Unprovoked</td>\n",
       "      <td>south africa</td>\n",
       "      <td>Eastern Cape Province</td>\n",
       "      <td>East Beach, Port Alfred</td>\n",
       "      <td>35.0</td>\n",
       "      <td>Unspecified</td>\n",
       "      <td>NaN</td>\n",
       "      <td>NaN</td>\n",
       "      <td>NaN</td>\n",
       "      <td>M</td>\n",
       "      <td>south africa</td>\n",
       "    </tr>\n",
       "    <tr>\n",
       "      <th>2049</th>\n",
       "      <td>2014.06.01.b</td>\n",
       "      <td>NaN</td>\n",
       "      <td>NaN</td>\n",
       "      <td>NaN</td>\n",
       "      <td>NaN</td>\n",
       "      <td>NaN</td>\n",
       "      <td>25.0</td>\n",
       "      <td>Unspecified</td>\n",
       "      <td>01-Jun-2014</td>\n",
       "      <td>Jun</td>\n",
       "      <td>N</td>\n",
       "      <td>F</td>\n",
       "      <td>NaN</td>\n",
       "    </tr>\n",
       "  </tbody>\n",
       "</table>\n",
       "</div>"
      ],
      "text/plain": [
       "       case_number    year        type       country                   area  \\\n",
       "4369    1984.10.17     NaN         NaN           NaN                    NaN   \n",
       "3903    1994.12.11     NaN         NaN           NaN                    NaN   \n",
       "353     2010.04.13  2010.0  Unprovoked  south africa  Eastern Cape Province   \n",
       "2049  2014.06.01.b     NaN         NaN           NaN                    NaN   \n",
       "\n",
       "                     location   age     species_         date  mes  \\\n",
       "4369                      NaN  25.0  Unspecified  17-Oct-1984  Oct   \n",
       "3903                      NaN  25.0  Unspecified  11-Dec-1994  Dec   \n",
       "353   East Beach, Port Alfred  35.0  Unspecified          NaN  NaN   \n",
       "2049                      NaN  25.0  Unspecified  01-Jun-2014  Jun   \n",
       "\n",
       "     fatal_(y/n)_limpio sex      country_  \n",
       "4369                NaN   M           NaN  \n",
       "3903                  N   M           NaN  \n",
       "353                 NaN   M  south africa  \n",
       "2049                  N   F           NaN  "
      ]
     },
     "execution_count": 10,
     "metadata": {},
     "output_type": "execute_result"
    }
   ],
   "source": [
    "df_copia.sample(4)"
   ]
  },
  {
   "attachments": {},
   "cell_type": "markdown",
   "metadata": {},
   "source": [
    "En relación a la columna de country al tratarse de una columna de tipo categórica, reemplazad los valores nulos por una nueva categória que se llame Unknown.\n"
   ]
  },
  {
   "cell_type": "code",
   "execution_count": 11,
   "metadata": {},
   "outputs": [],
   "source": [
    "df_copia[\"country\"].replace(np.nan,\"Unknown\", inplace=True)"
   ]
  },
  {
   "cell_type": "code",
   "execution_count": 12,
   "metadata": {},
   "outputs": [
    {
     "data": {
      "text/plain": [
       "0"
      ]
     },
     "execution_count": 12,
     "metadata": {},
     "output_type": "execute_result"
    }
   ],
   "source": [
    "df_copia[\"country\"].isnull().sum()"
   ]
  },
  {
   "cell_type": "code",
   "execution_count": 13,
   "metadata": {},
   "outputs": [
    {
     "data": {
      "text/html": [
       "<div>\n",
       "<style scoped>\n",
       "    .dataframe tbody tr th:only-of-type {\n",
       "        vertical-align: middle;\n",
       "    }\n",
       "\n",
       "    .dataframe tbody tr th {\n",
       "        vertical-align: top;\n",
       "    }\n",
       "\n",
       "    .dataframe thead th {\n",
       "        text-align: right;\n",
       "    }\n",
       "</style>\n",
       "<table border=\"1\" class=\"dataframe\">\n",
       "  <thead>\n",
       "    <tr style=\"text-align: right;\">\n",
       "      <th></th>\n",
       "      <th>case_number</th>\n",
       "      <th>year</th>\n",
       "      <th>type</th>\n",
       "      <th>country</th>\n",
       "      <th>area</th>\n",
       "      <th>location</th>\n",
       "      <th>age</th>\n",
       "      <th>species_</th>\n",
       "      <th>date</th>\n",
       "      <th>mes</th>\n",
       "      <th>fatal_(y/n)_limpio</th>\n",
       "      <th>sex</th>\n",
       "      <th>country_</th>\n",
       "    </tr>\n",
       "  </thead>\n",
       "  <tbody>\n",
       "    <tr>\n",
       "      <th>2874</th>\n",
       "      <td>2007.05.16</td>\n",
       "      <td>NaN</td>\n",
       "      <td>NaN</td>\n",
       "      <td>Unknown</td>\n",
       "      <td>NaN</td>\n",
       "      <td>NaN</td>\n",
       "      <td>25.0</td>\n",
       "      <td>Unspecified</td>\n",
       "      <td>16-May-2007</td>\n",
       "      <td>May</td>\n",
       "      <td>N</td>\n",
       "      <td>M</td>\n",
       "      <td>NaN</td>\n",
       "    </tr>\n",
       "    <tr>\n",
       "      <th>1661</th>\n",
       "      <td>ND.0011</td>\n",
       "      <td>1997.0</td>\n",
       "      <td>Unprovoked</td>\n",
       "      <td>asia?</td>\n",
       "      <td>NaN</td>\n",
       "      <td>NaN</td>\n",
       "      <td>25.0</td>\n",
       "      <td>Unspecified</td>\n",
       "      <td>NaN</td>\n",
       "      <td>NaN</td>\n",
       "      <td>NaN</td>\n",
       "      <td>M</td>\n",
       "      <td>asia?</td>\n",
       "    </tr>\n",
       "    <tr>\n",
       "      <th>163</th>\n",
       "      <td>2014.10.02.a</td>\n",
       "      <td>2014.0</td>\n",
       "      <td>Unprovoked</td>\n",
       "      <td>australia</td>\n",
       "      <td>Western Australia</td>\n",
       "      <td>Kelpids Beach, Wylie Bay, Esperance</td>\n",
       "      <td>23.0</td>\n",
       "      <td>White Shark</td>\n",
       "      <td>02-Oct-2014</td>\n",
       "      <td>Oct</td>\n",
       "      <td>N</td>\n",
       "      <td>M</td>\n",
       "      <td>australia</td>\n",
       "    </tr>\n",
       "    <tr>\n",
       "      <th>1271</th>\n",
       "      <td>1963.06.01.b</td>\n",
       "      <td>1963.0</td>\n",
       "      <td>Unprovoked</td>\n",
       "      <td>greece</td>\n",
       "      <td>Thessaly</td>\n",
       "      <td>near Trikerion Island</td>\n",
       "      <td>42.0</td>\n",
       "      <td>White Shark</td>\n",
       "      <td>NaN</td>\n",
       "      <td>NaN</td>\n",
       "      <td>NaN</td>\n",
       "      <td>F</td>\n",
       "      <td>greece</td>\n",
       "    </tr>\n",
       "  </tbody>\n",
       "</table>\n",
       "</div>"
      ],
      "text/plain": [
       "       case_number    year        type    country               area  \\\n",
       "2874    2007.05.16     NaN         NaN    Unknown                NaN   \n",
       "1661       ND.0011  1997.0  Unprovoked      asia?                NaN   \n",
       "163   2014.10.02.a  2014.0  Unprovoked  australia  Western Australia   \n",
       "1271  1963.06.01.b  1963.0  Unprovoked     greece           Thessaly   \n",
       "\n",
       "                                 location   age     species_         date  \\\n",
       "2874                                  NaN  25.0  Unspecified  16-May-2007   \n",
       "1661                                  NaN  25.0  Unspecified          NaN   \n",
       "163   Kelpids Beach, Wylie Bay, Esperance  23.0  White Shark  02-Oct-2014   \n",
       "1271                near Trikerion Island  42.0  White Shark          NaN   \n",
       "\n",
       "      mes fatal_(y/n)_limpio sex   country_  \n",
       "2874  May                  N   M        NaN  \n",
       "1661  NaN                NaN   M      asia?  \n",
       "163   Oct                  N   M  australia  \n",
       "1271  NaN                NaN   F     greece  "
      ]
     },
     "execution_count": 13,
     "metadata": {},
     "output_type": "execute_result"
    }
   ],
   "source": [
    "df_copia.sample(4)"
   ]
  },
  {
   "attachments": {},
   "cell_type": "markdown",
   "metadata": {},
   "source": [
    "Reemplazad los valores nulos de la columna fatal por Unknown.\n"
   ]
  },
  {
   "cell_type": "code",
   "execution_count": 14,
   "metadata": {},
   "outputs": [],
   "source": [
    "df_copia[\"fatal_(y/n)_limpio\"].fillna(\"Unknown\", inplace=True)"
   ]
  },
  {
   "cell_type": "code",
   "execution_count": 15,
   "metadata": {},
   "outputs": [
    {
     "data": {
      "text/plain": [
       "0"
      ]
     },
     "execution_count": 15,
     "metadata": {},
     "output_type": "execute_result"
    }
   ],
   "source": [
    "df_copia[\"fatal_(y/n)_limpio\"].isnull().sum()"
   ]
  },
  {
   "cell_type": "code",
   "execution_count": 16,
   "metadata": {},
   "outputs": [
    {
     "data": {
      "text/html": [
       "<div>\n",
       "<style scoped>\n",
       "    .dataframe tbody tr th:only-of-type {\n",
       "        vertical-align: middle;\n",
       "    }\n",
       "\n",
       "    .dataframe tbody tr th {\n",
       "        vertical-align: top;\n",
       "    }\n",
       "\n",
       "    .dataframe thead th {\n",
       "        text-align: right;\n",
       "    }\n",
       "</style>\n",
       "<table border=\"1\" class=\"dataframe\">\n",
       "  <thead>\n",
       "    <tr style=\"text-align: right;\">\n",
       "      <th></th>\n",
       "      <th>case_number</th>\n",
       "      <th>year</th>\n",
       "      <th>type</th>\n",
       "      <th>country</th>\n",
       "      <th>area</th>\n",
       "      <th>location</th>\n",
       "      <th>age</th>\n",
       "      <th>species_</th>\n",
       "      <th>date</th>\n",
       "      <th>mes</th>\n",
       "      <th>fatal_(y/n)_limpio</th>\n",
       "      <th>sex</th>\n",
       "      <th>country_</th>\n",
       "    </tr>\n",
       "  </thead>\n",
       "  <tbody>\n",
       "    <tr>\n",
       "      <th>5167</th>\n",
       "      <td>1964.07.00.b</td>\n",
       "      <td>NaN</td>\n",
       "      <td>NaN</td>\n",
       "      <td>Unknown</td>\n",
       "      <td>NaN</td>\n",
       "      <td>NaN</td>\n",
       "      <td>25.0</td>\n",
       "      <td>Unspecified</td>\n",
       "      <td>Jul-1964</td>\n",
       "      <td>NaN</td>\n",
       "      <td>Y</td>\n",
       "      <td>M</td>\n",
       "      <td>NaN</td>\n",
       "    </tr>\n",
       "    <tr>\n",
       "      <th>506</th>\n",
       "      <td>2006.11.11</td>\n",
       "      <td>2006.0</td>\n",
       "      <td>Unprovoked</td>\n",
       "      <td>usa</td>\n",
       "      <td>Hawaii</td>\n",
       "      <td>Kihei, Maui</td>\n",
       "      <td>29.0</td>\n",
       "      <td>Unspecified</td>\n",
       "      <td>NaN</td>\n",
       "      <td>NaN</td>\n",
       "      <td>Unknown</td>\n",
       "      <td>M</td>\n",
       "      <td>usa</td>\n",
       "    </tr>\n",
       "    <tr>\n",
       "      <th>1424</th>\n",
       "      <td>1947.03.09</td>\n",
       "      <td>1947.0</td>\n",
       "      <td>Unprovoked</td>\n",
       "      <td>south africa</td>\n",
       "      <td>KwaZulu-Natal</td>\n",
       "      <td>Country Club Beach, Durban</td>\n",
       "      <td>22.0</td>\n",
       "      <td>Unspecified</td>\n",
       "      <td>NaN</td>\n",
       "      <td>NaN</td>\n",
       "      <td>Unknown</td>\n",
       "      <td>M</td>\n",
       "      <td>south africa</td>\n",
       "    </tr>\n",
       "    <tr>\n",
       "      <th>1105</th>\n",
       "      <td>1981.03.25</td>\n",
       "      <td>1981.0</td>\n",
       "      <td>Unprovoked</td>\n",
       "      <td>usa</td>\n",
       "      <td>Florida</td>\n",
       "      <td>Singer Island, Riviera Beach, Palm Beach County</td>\n",
       "      <td>19.0</td>\n",
       "      <td>Bull Shark</td>\n",
       "      <td>NaN</td>\n",
       "      <td>NaN</td>\n",
       "      <td>Unknown</td>\n",
       "      <td>M</td>\n",
       "      <td>usa</td>\n",
       "    </tr>\n",
       "  </tbody>\n",
       "</table>\n",
       "</div>"
      ],
      "text/plain": [
       "       case_number    year        type       country           area  \\\n",
       "5167  1964.07.00.b     NaN         NaN       Unknown            NaN   \n",
       "506     2006.11.11  2006.0  Unprovoked           usa         Hawaii   \n",
       "1424    1947.03.09  1947.0  Unprovoked  south africa  KwaZulu-Natal   \n",
       "1105    1981.03.25  1981.0  Unprovoked           usa        Florida   \n",
       "\n",
       "                                             location   age     species_  \\\n",
       "5167                                              NaN  25.0  Unspecified   \n",
       "506                                       Kihei, Maui  29.0  Unspecified   \n",
       "1424                       Country Club Beach, Durban  22.0  Unspecified   \n",
       "1105  Singer Island, Riviera Beach, Palm Beach County  19.0   Bull Shark   \n",
       "\n",
       "          date  mes fatal_(y/n)_limpio sex      country_  \n",
       "5167  Jul-1964  NaN                  Y   M           NaN  \n",
       "506        NaN  NaN            Unknown   M           usa  \n",
       "1424       NaN  NaN            Unknown   M  south africa  \n",
       "1105       NaN  NaN            Unknown   M           usa  "
      ]
     },
     "execution_count": 16,
     "metadata": {},
     "output_type": "execute_result"
    }
   ],
   "source": [
    "df_copia.sample(4)"
   ]
  },
  {
   "attachments": {},
   "cell_type": "markdown",
   "metadata": {},
   "source": [
    "Reemplazad los valores nulos de la columna type por el valor más frecuente (la moda).\n"
   ]
  },
  {
   "cell_type": "code",
   "execution_count": 17,
   "metadata": {},
   "outputs": [],
   "source": [
    "# Como en base a las preguntas de la hipotesis hemos borrado la columna type, ya que hemos interpretado que la en esta pregunta: \"¿Cuál es la relación entre la especie y el tipo de ataque (si es fatal o no)?\"\n",
    "# Se refería a si era fatal o no, vamos a aplicar este  ejercicio sobre la columna \"injury\", que también es de tipo categórico."
   ]
  },
  {
   "cell_type": "code",
   "execution_count": 18,
   "metadata": {},
   "outputs": [],
   "source": [
    "df_copia[\"type\"].replace(np.nan, df_copia[\"type\"].mode()[0], inplace=True)"
   ]
  },
  {
   "cell_type": "code",
   "execution_count": 19,
   "metadata": {},
   "outputs": [
    {
     "data": {
      "text/plain": [
       "0"
      ]
     },
     "execution_count": 19,
     "metadata": {},
     "output_type": "execute_result"
    }
   ],
   "source": [
    "df_copia[\"type\"].isnull().sum()"
   ]
  },
  {
   "cell_type": "code",
   "execution_count": 20,
   "metadata": {},
   "outputs": [
    {
     "data": {
      "text/html": [
       "<div>\n",
       "<style scoped>\n",
       "    .dataframe tbody tr th:only-of-type {\n",
       "        vertical-align: middle;\n",
       "    }\n",
       "\n",
       "    .dataframe tbody tr th {\n",
       "        vertical-align: top;\n",
       "    }\n",
       "\n",
       "    .dataframe thead th {\n",
       "        text-align: right;\n",
       "    }\n",
       "</style>\n",
       "<table border=\"1\" class=\"dataframe\">\n",
       "  <thead>\n",
       "    <tr style=\"text-align: right;\">\n",
       "      <th></th>\n",
       "      <th>case_number</th>\n",
       "      <th>year</th>\n",
       "      <th>type</th>\n",
       "      <th>country</th>\n",
       "      <th>area</th>\n",
       "      <th>location</th>\n",
       "      <th>age</th>\n",
       "      <th>species_</th>\n",
       "      <th>date</th>\n",
       "      <th>mes</th>\n",
       "      <th>fatal_(y/n)_limpio</th>\n",
       "      <th>sex</th>\n",
       "      <th>country_</th>\n",
       "    </tr>\n",
       "  </thead>\n",
       "  <tbody>\n",
       "    <tr>\n",
       "      <th>5124</th>\n",
       "      <td>1965.03.23</td>\n",
       "      <td>NaN</td>\n",
       "      <td>Unprovoked</td>\n",
       "      <td>Unknown</td>\n",
       "      <td>NaN</td>\n",
       "      <td>NaN</td>\n",
       "      <td>25.0</td>\n",
       "      <td>Unspecified</td>\n",
       "      <td>23-Mar-1965</td>\n",
       "      <td>Mar</td>\n",
       "      <td>Unknown</td>\n",
       "      <td>F</td>\n",
       "      <td>NaN</td>\n",
       "    </tr>\n",
       "    <tr>\n",
       "      <th>3886</th>\n",
       "      <td>1995.04.13</td>\n",
       "      <td>NaN</td>\n",
       "      <td>Unprovoked</td>\n",
       "      <td>Unknown</td>\n",
       "      <td>NaN</td>\n",
       "      <td>NaN</td>\n",
       "      <td>25.0</td>\n",
       "      <td>Unspecified</td>\n",
       "      <td>13-Apr-1995</td>\n",
       "      <td>Apr</td>\n",
       "      <td>N</td>\n",
       "      <td>M</td>\n",
       "      <td>NaN</td>\n",
       "    </tr>\n",
       "  </tbody>\n",
       "</table>\n",
       "</div>"
      ],
      "text/plain": [
       "     case_number  year        type  country area location   age     species_  \\\n",
       "5124  1965.03.23   NaN  Unprovoked  Unknown  NaN      NaN  25.0  Unspecified   \n",
       "3886  1995.04.13   NaN  Unprovoked  Unknown  NaN      NaN  25.0  Unspecified   \n",
       "\n",
       "             date  mes fatal_(y/n)_limpio sex country_  \n",
       "5124  23-Mar-1965  Mar            Unknown   F      NaN  \n",
       "3886  13-Apr-1995  Apr                  N   M      NaN  "
      ]
     },
     "execution_count": 20,
     "metadata": {},
     "output_type": "execute_result"
    }
   ],
   "source": [
    "df_copia.sample(2)"
   ]
  },
  {
   "cell_type": "code",
   "execution_count": 21,
   "metadata": {},
   "outputs": [
    {
     "data": {
      "text/html": [
       "<div>\n",
       "<style scoped>\n",
       "    .dataframe tbody tr th:only-of-type {\n",
       "        vertical-align: middle;\n",
       "    }\n",
       "\n",
       "    .dataframe tbody tr th {\n",
       "        vertical-align: top;\n",
       "    }\n",
       "\n",
       "    .dataframe thead th {\n",
       "        text-align: right;\n",
       "    }\n",
       "</style>\n",
       "<table border=\"1\" class=\"dataframe\">\n",
       "  <thead>\n",
       "    <tr style=\"text-align: right;\">\n",
       "      <th></th>\n",
       "      <th>case_number</th>\n",
       "      <th>year</th>\n",
       "      <th>type</th>\n",
       "      <th>country</th>\n",
       "      <th>area</th>\n",
       "      <th>location</th>\n",
       "      <th>age</th>\n",
       "      <th>species_</th>\n",
       "      <th>date</th>\n",
       "      <th>mes</th>\n",
       "      <th>fatal_(y/n)_limpio</th>\n",
       "      <th>sex</th>\n",
       "      <th>country_</th>\n",
       "    </tr>\n",
       "  </thead>\n",
       "  <tbody>\n",
       "    <tr>\n",
       "      <th>4252</th>\n",
       "      <td>1987.12.20</td>\n",
       "      <td>NaN</td>\n",
       "      <td>Unprovoked</td>\n",
       "      <td>Unknown</td>\n",
       "      <td>NaN</td>\n",
       "      <td>NaN</td>\n",
       "      <td>25.0</td>\n",
       "      <td>Unspecified</td>\n",
       "      <td>20-Dec-1987</td>\n",
       "      <td>Dec</td>\n",
       "      <td>Y</td>\n",
       "      <td>F</td>\n",
       "      <td>NaN</td>\n",
       "    </tr>\n",
       "    <tr>\n",
       "      <th>3741</th>\n",
       "      <td>1997.07.02.R</td>\n",
       "      <td>NaN</td>\n",
       "      <td>Unprovoked</td>\n",
       "      <td>Unknown</td>\n",
       "      <td>NaN</td>\n",
       "      <td>NaN</td>\n",
       "      <td>25.0</td>\n",
       "      <td>Unspecified</td>\n",
       "      <td>2-Jul-1997</td>\n",
       "      <td>Jul</td>\n",
       "      <td>N</td>\n",
       "      <td>M</td>\n",
       "      <td>NaN</td>\n",
       "    </tr>\n",
       "    <tr>\n",
       "      <th>6129</th>\n",
       "      <td>1944.10.24</td>\n",
       "      <td>NaN</td>\n",
       "      <td>Unprovoked</td>\n",
       "      <td>Unknown</td>\n",
       "      <td>NaN</td>\n",
       "      <td>NaN</td>\n",
       "      <td>25.0</td>\n",
       "      <td>Unspecified</td>\n",
       "      <td>24-Oct-1944</td>\n",
       "      <td>Oct</td>\n",
       "      <td>Y</td>\n",
       "      <td>F</td>\n",
       "      <td>NaN</td>\n",
       "    </tr>\n",
       "    <tr>\n",
       "      <th>5395</th>\n",
       "      <td>1961.04.16.b</td>\n",
       "      <td>NaN</td>\n",
       "      <td>Unprovoked</td>\n",
       "      <td>Unknown</td>\n",
       "      <td>NaN</td>\n",
       "      <td>NaN</td>\n",
       "      <td>25.0</td>\n",
       "      <td>Unspecified</td>\n",
       "      <td>16-Apr-1961</td>\n",
       "      <td>Apr</td>\n",
       "      <td>N</td>\n",
       "      <td>F</td>\n",
       "      <td>NaN</td>\n",
       "    </tr>\n",
       "    <tr>\n",
       "      <th>4411</th>\n",
       "      <td>1983.11.10</td>\n",
       "      <td>NaN</td>\n",
       "      <td>Unprovoked</td>\n",
       "      <td>Unknown</td>\n",
       "      <td>NaN</td>\n",
       "      <td>NaN</td>\n",
       "      <td>25.0</td>\n",
       "      <td>Unspecified</td>\n",
       "      <td>10-Nov-1983</td>\n",
       "      <td>Nov</td>\n",
       "      <td>Unknown</td>\n",
       "      <td>F</td>\n",
       "      <td>NaN</td>\n",
       "    </tr>\n",
       "  </tbody>\n",
       "</table>\n",
       "</div>"
      ],
      "text/plain": [
       "       case_number  year        type  country area location   age  \\\n",
       "4252    1987.12.20   NaN  Unprovoked  Unknown  NaN      NaN  25.0   \n",
       "3741  1997.07.02.R   NaN  Unprovoked  Unknown  NaN      NaN  25.0   \n",
       "6129    1944.10.24   NaN  Unprovoked  Unknown  NaN      NaN  25.0   \n",
       "5395  1961.04.16.b   NaN  Unprovoked  Unknown  NaN      NaN  25.0   \n",
       "4411    1983.11.10   NaN  Unprovoked  Unknown  NaN      NaN  25.0   \n",
       "\n",
       "         species_         date  mes fatal_(y/n)_limpio sex country_  \n",
       "4252  Unspecified  20-Dec-1987  Dec                  Y   F      NaN  \n",
       "3741  Unspecified   2-Jul-1997  Jul                  N   M      NaN  \n",
       "6129  Unspecified  24-Oct-1944  Oct                  Y   F      NaN  \n",
       "5395  Unspecified  16-Apr-1961  Apr                  N   F      NaN  \n",
       "4411  Unspecified  10-Nov-1983  Nov            Unknown   F      NaN  "
      ]
     },
     "execution_count": 21,
     "metadata": {},
     "output_type": "execute_result"
    }
   ],
   "source": [
    "df_copia.sample(5)"
   ]
  },
  {
   "attachments": {},
   "cell_type": "markdown",
   "metadata": {},
   "source": [
    "Reemplazad los valores nulos de la columna fecha por Unknown.\n"
   ]
  },
  {
   "cell_type": "code",
   "execution_count": 22,
   "metadata": {},
   "outputs": [],
   "source": [
    "df_copia[\"date\"].replace(np.nan, \"Unknown\", inplace=True)"
   ]
  },
  {
   "cell_type": "code",
   "execution_count": 23,
   "metadata": {},
   "outputs": [
    {
     "data": {
      "text/plain": [
       "0"
      ]
     },
     "execution_count": 23,
     "metadata": {},
     "output_type": "execute_result"
    }
   ],
   "source": [
    "df_copia[\"date\"].isnull().sum()"
   ]
  },
  {
   "attachments": {},
   "cell_type": "markdown",
   "metadata": {},
   "source": [
    "Guardad el csv para seguir trabajando con el en los siguientes ejercicios de pair"
   ]
  },
  {
   "cell_type": "code",
   "execution_count": 24,
   "metadata": {},
   "outputs": [],
   "source": [
    "df_copia.to_csv(\"datos/attacks_pandas_10b.csv\")"
   ]
  }
 ],
 "metadata": {
  "kernelspec": {
   "display_name": "base",
   "language": "python",
   "name": "python3"
  },
  "language_info": {
   "codemirror_mode": {
    "name": "ipython",
    "version": 3
   },
   "file_extension": ".py",
   "mimetype": "text/x-python",
   "name": "python",
   "nbconvert_exporter": "python",
   "pygments_lexer": "ipython3",
   "version": "3.9.7"
  },
  "orig_nbformat": 4,
  "vscode": {
   "interpreter": {
    "hash": "b3191f930eabfdf0eb39086a24df618ea48425015dbb471465fb2c793fed20fd"
   }
  }
 },
 "nbformat": 4,
 "nbformat_minor": 2
}
