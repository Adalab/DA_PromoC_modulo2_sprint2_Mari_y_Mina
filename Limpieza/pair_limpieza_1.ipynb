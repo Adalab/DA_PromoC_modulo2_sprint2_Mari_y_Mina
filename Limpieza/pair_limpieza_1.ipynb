{
 "cells": [
  {
   "attachments": {},
   "cell_type": "markdown",
   "metadata": {},
   "source": [
    "### Pair Programming – Limpieza"
   ]
  },
  {
   "cell_type": "markdown",
   "metadata": {},
   "source": []
  },
  {
   "cell_type": "code",
   "execution_count": 118,
   "metadata": {},
   "outputs": [],
   "source": [
    "import pandas as pd\n",
    "import numpy as np"
   ]
  },
  {
   "cell_type": "code",
   "execution_count": 119,
   "metadata": {},
   "outputs": [],
   "source": [
    "# 1. Al empezar a trabajar con este dataframe ya eliminamos algunas columnas que a priori no nos interesaban. \n",
    "# Ahora llega el momento de eliminar alguna columna más. En este caso tendréis que eliminar las columnas que no\n",
    "# nos sean útiles para contestar a nuestras preguntas. Pero ojo ⚠️, haced una copia del dataframe para no \"cargarnos\"\n",
    "# el dataframe original y perder la info.\n",
    "\n",
    "df_copia = pd.read_csv(\"datos/attacks_pandas7.csv\", index_col = 0)"
   ]
  },
  {
   "cell_type": "code",
   "execution_count": 120,
   "metadata": {},
   "outputs": [
    {
     "data": {
      "text/html": [
       "<div>\n",
       "<style scoped>\n",
       "    .dataframe tbody tr th:only-of-type {\n",
       "        vertical-align: middle;\n",
       "    }\n",
       "\n",
       "    .dataframe tbody tr th {\n",
       "        vertical-align: top;\n",
       "    }\n",
       "\n",
       "    .dataframe thead th {\n",
       "        text-align: right;\n",
       "    }\n",
       "</style>\n",
       "<table border=\"1\" class=\"dataframe\">\n",
       "  <thead>\n",
       "    <tr style=\"text-align: right;\">\n",
       "      <th></th>\n",
       "      <th>case_number</th>\n",
       "      <th>unnamed:_0</th>\n",
       "      <th>year</th>\n",
       "      <th>type</th>\n",
       "      <th>country</th>\n",
       "      <th>area</th>\n",
       "      <th>location</th>\n",
       "      <th>activity</th>\n",
       "      <th>name</th>\n",
       "      <th>sex_</th>\n",
       "      <th>...</th>\n",
       "      <th>time</th>\n",
       "      <th>species_</th>\n",
       "      <th>href</th>\n",
       "      <th>siglo</th>\n",
       "      <th>fatal_(y/n)</th>\n",
       "      <th>injury</th>\n",
       "      <th>date</th>\n",
       "      <th>mes</th>\n",
       "      <th>fatal_(y/n)_limpio</th>\n",
       "      <th>sex</th>\n",
       "    </tr>\n",
       "  </thead>\n",
       "  <tbody>\n",
       "    <tr>\n",
       "      <th>0</th>\n",
       "      <td>2018.06.25</td>\n",
       "      <td>0</td>\n",
       "      <td>2018.0</td>\n",
       "      <td>Boating</td>\n",
       "      <td>USA</td>\n",
       "      <td>California</td>\n",
       "      <td>Oceanside, San Diego County</td>\n",
       "      <td>Paddling</td>\n",
       "      <td>Julie Wolfe</td>\n",
       "      <td>F</td>\n",
       "      <td>...</td>\n",
       "      <td>18h00</td>\n",
       "      <td>White shark</td>\n",
       "      <td>http://sharkattackfile.net/spreadsheets/pdf_di...</td>\n",
       "      <td>siglo XXI</td>\n",
       "      <td>N</td>\n",
       "      <td>No injury to occupant, outrigger canoe and pad...</td>\n",
       "      <td>25-Jun-2018</td>\n",
       "      <td>['Jun']</td>\n",
       "      <td>N</td>\n",
       "      <td>Y</td>\n",
       "    </tr>\n",
       "    <tr>\n",
       "      <th>1</th>\n",
       "      <td>2018.06.03.a</td>\n",
       "      <td>6</td>\n",
       "      <td>2018.0</td>\n",
       "      <td>Unprovoked</td>\n",
       "      <td>BRAZIL</td>\n",
       "      <td>Pernambuco</td>\n",
       "      <td>Piedade Beach, Recife</td>\n",
       "      <td>Swimming</td>\n",
       "      <td>Jose Ernesto da Silva</td>\n",
       "      <td>M</td>\n",
       "      <td>...</td>\n",
       "      <td>Late afternoon</td>\n",
       "      <td>Tiger shark</td>\n",
       "      <td>http://sharkattackfile.net/spreadsheets/pdf_di...</td>\n",
       "      <td>siglo XXI</td>\n",
       "      <td>Y</td>\n",
       "      <td>FATAL</td>\n",
       "      <td>03-Jun-2018</td>\n",
       "      <td>['Jun']</td>\n",
       "      <td>Y</td>\n",
       "      <td>Y</td>\n",
       "    </tr>\n",
       "  </tbody>\n",
       "</table>\n",
       "<p>2 rows × 21 columns</p>\n",
       "</div>"
      ],
      "text/plain": [
       "    case_number  unnamed:_0    year        type country        area  \\\n",
       "0    2018.06.25           0  2018.0     Boating     USA  California   \n",
       "1  2018.06.03.a           6  2018.0  Unprovoked  BRAZIL  Pernambuco   \n",
       "\n",
       "                      location  activity                    name sex_  ...  \\\n",
       "0  Oceanside, San Diego County  Paddling             Julie Wolfe    F  ...   \n",
       "1        Piedade Beach, Recife  Swimming  Jose Ernesto da Silva     M  ...   \n",
       "\n",
       "             time     species_  \\\n",
       "0           18h00  White shark   \n",
       "1  Late afternoon  Tiger shark   \n",
       "\n",
       "                                                href      siglo fatal_(y/n)  \\\n",
       "0  http://sharkattackfile.net/spreadsheets/pdf_di...  siglo XXI           N   \n",
       "1  http://sharkattackfile.net/spreadsheets/pdf_di...  siglo XXI           Y   \n",
       "\n",
       "                                              injury         date      mes  \\\n",
       "0  No injury to occupant, outrigger canoe and pad...  25-Jun-2018  ['Jun']   \n",
       "1                                              FATAL  03-Jun-2018  ['Jun']   \n",
       "\n",
       "  fatal_(y/n)_limpio sex  \n",
       "0                  N   Y  \n",
       "1                  Y   Y  \n",
       "\n",
       "[2 rows x 21 columns]"
      ]
     },
     "execution_count": 120,
     "metadata": {},
     "output_type": "execute_result"
    }
   ],
   "source": [
    "df_copia.head(2)"
   ]
  },
  {
   "cell_type": "code",
   "execution_count": 121,
   "metadata": {},
   "outputs": [],
   "source": [
    "df_copia = df_copia.drop([\"unnamed:_0\", \"type\", \"activity\", \"name\", \"time\", \"href\", \"fatal_(y/n)\"], axis = 1)"
   ]
  },
  {
   "cell_type": "code",
   "execution_count": 122,
   "metadata": {},
   "outputs": [
    {
     "name": "stdout",
     "output_type": "stream",
     "text": [
      "Hay 0 valores duplicados, por lo tanto es necesario eliminar 0.\n"
     ]
    }
   ],
   "source": [
    "# 2. ¿Hay valores duplicados en nuestro dataframe? En caso de que los haya, eliminandlos.\n",
    "\n",
    "print(f\"Hay {df_copia.duplicated().sum()} valores duplicados, por lo tanto es necesario eliminar {df_copia.duplicated().sum()}.\")"
   ]
  },
  {
   "cell_type": "code",
   "execution_count": 123,
   "metadata": {},
   "outputs": [
    {
     "data": {
      "text/plain": [
       "case_number            object\n",
       "year                  float64\n",
       "country                object\n",
       "area                   object\n",
       "location               object\n",
       "sex_                   object\n",
       "age                    object\n",
       "species_               object\n",
       "siglo                  object\n",
       "injury                 object\n",
       "date                   object\n",
       "mes                    object\n",
       "fatal_(y/n)_limpio     object\n",
       "sex                    object\n",
       "dtype: object"
      ]
     },
     "execution_count": 123,
     "metadata": {},
     "output_type": "execute_result"
    }
   ],
   "source": [
    "# 3. Como hemos visto, algunas columnas no tienen el tipo de datos que deberían. Cambiad el tipo de dato para\n",
    "# la columna de year.\n",
    "\n",
    "df_copia.dtypes"
   ]
  },
  {
   "cell_type": "code",
   "execution_count": 124,
   "metadata": {},
   "outputs": [
    {
     "name": "stdout",
     "output_type": "stream",
     "text": [
      "<class 'pandas.core.frame.DataFrame'>\n",
      "Int64Index: 7789 entries, 0 to 7788\n",
      "Data columns (total 14 columns):\n",
      " #   Column              Non-Null Count  Dtype  \n",
      "---  ------              --------------  -----  \n",
      " 0   case_number         7788 non-null   object \n",
      " 1   year                1672 non-null   float64\n",
      " 2   country             1662 non-null   object \n",
      " 3   area                1626 non-null   object \n",
      " 4   location            1621 non-null   object \n",
      " 5   sex_                1658 non-null   object \n",
      " 6   age                 1518 non-null   object \n",
      " 7   species_            1546 non-null   object \n",
      " 8   siglo               1502 non-null   object \n",
      " 9   injury              6258 non-null   object \n",
      " 10  date                6286 non-null   object \n",
      " 11  mes                 6286 non-null   object \n",
      " 12  fatal_(y/n)_limpio  5678 non-null   object \n",
      " 13  sex                 7789 non-null   object \n",
      "dtypes: float64(1), object(13)\n",
      "memory usage: 912.8+ KB\n"
     ]
    }
   ],
   "source": [
    "df_copia.info()"
   ]
  },
  {
   "cell_type": "code",
   "execution_count": 125,
   "metadata": {},
   "outputs": [],
   "source": [
    "df_copia[\"year\"] = df_copia[\"year\"].astype('Int64', errors = \"ignore\")"
   ]
  },
  {
   "cell_type": "code",
   "execution_count": 126,
   "metadata": {},
   "outputs": [
    {
     "name": "stdout",
     "output_type": "stream",
     "text": [
      "<class 'pandas.core.frame.DataFrame'>\n",
      "Int64Index: 7789 entries, 0 to 7788\n",
      "Data columns (total 14 columns):\n",
      " #   Column              Non-Null Count  Dtype \n",
      "---  ------              --------------  ----- \n",
      " 0   case_number         7788 non-null   object\n",
      " 1   year                1672 non-null   Int64 \n",
      " 2   country             1662 non-null   object\n",
      " 3   area                1626 non-null   object\n",
      " 4   location            1621 non-null   object\n",
      " 5   sex_                1658 non-null   object\n",
      " 6   age                 1518 non-null   object\n",
      " 7   species_            1546 non-null   object\n",
      " 8   siglo               1502 non-null   object\n",
      " 9   injury              6258 non-null   object\n",
      " 10  date                6286 non-null   object\n",
      " 11  mes                 6286 non-null   object\n",
      " 12  fatal_(y/n)_limpio  5678 non-null   object\n",
      " 13  sex                 7789 non-null   object\n",
      "dtypes: Int64(1), object(13)\n",
      "memory usage: 920.4+ KB\n"
     ]
    }
   ],
   "source": [
    "df_copia.info()"
   ]
  },
  {
   "cell_type": "code",
   "execution_count": 127,
   "metadata": {},
   "outputs": [
    {
     "data": {
      "text/html": [
       "<div>\n",
       "<style scoped>\n",
       "    .dataframe tbody tr th:only-of-type {\n",
       "        vertical-align: middle;\n",
       "    }\n",
       "\n",
       "    .dataframe tbody tr th {\n",
       "        vertical-align: top;\n",
       "    }\n",
       "\n",
       "    .dataframe thead th {\n",
       "        text-align: right;\n",
       "    }\n",
       "</style>\n",
       "<table border=\"1\" class=\"dataframe\">\n",
       "  <thead>\n",
       "    <tr style=\"text-align: right;\">\n",
       "      <th></th>\n",
       "      <th>case_number</th>\n",
       "      <th>year</th>\n",
       "      <th>country</th>\n",
       "      <th>area</th>\n",
       "      <th>location</th>\n",
       "      <th>sex_</th>\n",
       "      <th>age</th>\n",
       "      <th>species_</th>\n",
       "      <th>siglo</th>\n",
       "      <th>injury</th>\n",
       "      <th>date</th>\n",
       "      <th>mes</th>\n",
       "      <th>fatal_(y/n)_limpio</th>\n",
       "      <th>sex</th>\n",
       "    </tr>\n",
       "  </thead>\n",
       "  <tbody>\n",
       "    <tr>\n",
       "      <th>0</th>\n",
       "      <td>2018.06.25</td>\n",
       "      <td>2018</td>\n",
       "      <td>USA</td>\n",
       "      <td>California</td>\n",
       "      <td>Oceanside, San Diego County</td>\n",
       "      <td>F</td>\n",
       "      <td>57</td>\n",
       "      <td>White shark</td>\n",
       "      <td>siglo XXI</td>\n",
       "      <td>No injury to occupant, outrigger canoe and pad...</td>\n",
       "      <td>25-Jun-2018</td>\n",
       "      <td>['Jun']</td>\n",
       "      <td>N</td>\n",
       "      <td>Y</td>\n",
       "    </tr>\n",
       "    <tr>\n",
       "      <th>1</th>\n",
       "      <td>2018.06.03.a</td>\n",
       "      <td>2018</td>\n",
       "      <td>BRAZIL</td>\n",
       "      <td>Pernambuco</td>\n",
       "      <td>Piedade Beach, Recife</td>\n",
       "      <td>M</td>\n",
       "      <td>18</td>\n",
       "      <td>Tiger shark</td>\n",
       "      <td>siglo XXI</td>\n",
       "      <td>FATAL</td>\n",
       "      <td>03-Jun-2018</td>\n",
       "      <td>['Jun']</td>\n",
       "      <td>Y</td>\n",
       "      <td>Y</td>\n",
       "    </tr>\n",
       "  </tbody>\n",
       "</table>\n",
       "</div>"
      ],
      "text/plain": [
       "    case_number  year country        area                     location sex_  \\\n",
       "0    2018.06.25  2018     USA  California  Oceanside, San Diego County    F   \n",
       "1  2018.06.03.a  2018  BRAZIL  Pernambuco        Piedade Beach, Recife    M   \n",
       "\n",
       "  age     species_      siglo  \\\n",
       "0  57  White shark  siglo XXI   \n",
       "1  18  Tiger shark  siglo XXI   \n",
       "\n",
       "                                              injury         date      mes  \\\n",
       "0  No injury to occupant, outrigger canoe and pad...  25-Jun-2018  ['Jun']   \n",
       "1                                              FATAL  03-Jun-2018  ['Jun']   \n",
       "\n",
       "  fatal_(y/n)_limpio sex  \n",
       "0                  N   Y  \n",
       "1                  Y   Y  "
      ]
     },
     "execution_count": 127,
     "metadata": {},
     "output_type": "execute_result"
    }
   ],
   "source": [
    "df_copia.head(2)"
   ]
  },
  {
   "cell_type": "code",
   "execution_count": 128,
   "metadata": {},
   "outputs": [],
   "source": [
    "# 4. Poner todos los valores de la columna de country en minúscula. Pista: Tendréis que usar una función o una\n",
    "# lambda.\n",
    "\n",
    "# Hacemos una función:\n",
    "\n",
    "def minusculas(col):\n",
    "    try:\n",
    "        col2 = str(col).lower()\n",
    "        return col2\n",
    "    except:\n",
    "        np.nan"
   ]
  },
  {
   "cell_type": "code",
   "execution_count": 129,
   "metadata": {},
   "outputs": [],
   "source": [
    "# Hacemos una lambda que se reflejará como columna country_:\n",
    "\n",
    "df_copia[\"country_\"] = df_copia[\"country\"].apply(lambda col: col.lower() if type(col) == str else np.nan)"
   ]
  },
  {
   "cell_type": "code",
   "execution_count": 130,
   "metadata": {},
   "outputs": [],
   "source": [
    "df_copia[\"country\"] = df_copia[\"country\"].apply(minusculas)"
   ]
  },
  {
   "cell_type": "code",
   "execution_count": 131,
   "metadata": {},
   "outputs": [
    {
     "name": "stdout",
     "output_type": "stream",
     "text": [
      "<class 'pandas.core.frame.DataFrame'>\n",
      "Int64Index: 7789 entries, 0 to 7788\n",
      "Data columns (total 15 columns):\n",
      " #   Column              Non-Null Count  Dtype \n",
      "---  ------              --------------  ----- \n",
      " 0   case_number         7788 non-null   object\n",
      " 1   year                1672 non-null   Int64 \n",
      " 2   country             7789 non-null   object\n",
      " 3   area                1626 non-null   object\n",
      " 4   location            1621 non-null   object\n",
      " 5   sex_                1658 non-null   object\n",
      " 6   age                 1518 non-null   object\n",
      " 7   species_            1546 non-null   object\n",
      " 8   siglo               1502 non-null   object\n",
      " 9   injury              6258 non-null   object\n",
      " 10  date                6286 non-null   object\n",
      " 11  mes                 6286 non-null   object\n",
      " 12  fatal_(y/n)_limpio  5678 non-null   object\n",
      " 13  sex                 7789 non-null   object\n",
      " 14  country_            1662 non-null   object\n",
      "dtypes: Int64(1), object(14)\n",
      "memory usage: 981.2+ KB\n"
     ]
    }
   ],
   "source": [
    "df_copia.info()"
   ]
  },
  {
   "cell_type": "code",
   "execution_count": 132,
   "metadata": {},
   "outputs": [
    {
     "data": {
      "text/html": [
       "<div>\n",
       "<style scoped>\n",
       "    .dataframe tbody tr th:only-of-type {\n",
       "        vertical-align: middle;\n",
       "    }\n",
       "\n",
       "    .dataframe tbody tr th {\n",
       "        vertical-align: top;\n",
       "    }\n",
       "\n",
       "    .dataframe thead th {\n",
       "        text-align: right;\n",
       "    }\n",
       "</style>\n",
       "<table border=\"1\" class=\"dataframe\">\n",
       "  <thead>\n",
       "    <tr style=\"text-align: right;\">\n",
       "      <th></th>\n",
       "      <th>case_number</th>\n",
       "      <th>year</th>\n",
       "      <th>country</th>\n",
       "      <th>area</th>\n",
       "      <th>location</th>\n",
       "      <th>sex_</th>\n",
       "      <th>age</th>\n",
       "      <th>species_</th>\n",
       "      <th>siglo</th>\n",
       "      <th>injury</th>\n",
       "      <th>date</th>\n",
       "      <th>mes</th>\n",
       "      <th>fatal_(y/n)_limpio</th>\n",
       "      <th>sex</th>\n",
       "      <th>country_</th>\n",
       "    </tr>\n",
       "  </thead>\n",
       "  <tbody>\n",
       "    <tr>\n",
       "      <th>0</th>\n",
       "      <td>2018.06.25</td>\n",
       "      <td>2018</td>\n",
       "      <td>usa</td>\n",
       "      <td>California</td>\n",
       "      <td>Oceanside, San Diego County</td>\n",
       "      <td>F</td>\n",
       "      <td>57</td>\n",
       "      <td>White shark</td>\n",
       "      <td>siglo XXI</td>\n",
       "      <td>No injury to occupant, outrigger canoe and pad...</td>\n",
       "      <td>25-Jun-2018</td>\n",
       "      <td>['Jun']</td>\n",
       "      <td>N</td>\n",
       "      <td>Y</td>\n",
       "      <td>usa</td>\n",
       "    </tr>\n",
       "    <tr>\n",
       "      <th>1</th>\n",
       "      <td>2018.06.03.a</td>\n",
       "      <td>2018</td>\n",
       "      <td>brazil</td>\n",
       "      <td>Pernambuco</td>\n",
       "      <td>Piedade Beach, Recife</td>\n",
       "      <td>M</td>\n",
       "      <td>18</td>\n",
       "      <td>Tiger shark</td>\n",
       "      <td>siglo XXI</td>\n",
       "      <td>FATAL</td>\n",
       "      <td>03-Jun-2018</td>\n",
       "      <td>['Jun']</td>\n",
       "      <td>Y</td>\n",
       "      <td>Y</td>\n",
       "      <td>brazil</td>\n",
       "    </tr>\n",
       "    <tr>\n",
       "      <th>2</th>\n",
       "      <td>2018.05.26.b</td>\n",
       "      <td>2018</td>\n",
       "      <td>usa</td>\n",
       "      <td>Florida</td>\n",
       "      <td>Cocoa Beach, Brevard  County</td>\n",
       "      <td>M</td>\n",
       "      <td>15</td>\n",
       "      <td>Bull shark, 6'</td>\n",
       "      <td>siglo XXI</td>\n",
       "      <td>Lower left leg bitten</td>\n",
       "      <td>26-May-2018</td>\n",
       "      <td>['May']</td>\n",
       "      <td>N</td>\n",
       "      <td>N</td>\n",
       "      <td>usa</td>\n",
       "    </tr>\n",
       "    <tr>\n",
       "      <th>3</th>\n",
       "      <td>2018.05.24</td>\n",
       "      <td>2018</td>\n",
       "      <td>australia</td>\n",
       "      <td>Queensland</td>\n",
       "      <td>Cairns Aquarium</td>\n",
       "      <td>M</td>\n",
       "      <td>32</td>\n",
       "      <td>Grey reef shark</td>\n",
       "      <td>siglo XXI</td>\n",
       "      <td>Minor bite to hand by captive shark. PROVOKED ...</td>\n",
       "      <td>24-May-2018</td>\n",
       "      <td>['May']</td>\n",
       "      <td>N</td>\n",
       "      <td>N</td>\n",
       "      <td>australia</td>\n",
       "    </tr>\n",
       "    <tr>\n",
       "      <th>4</th>\n",
       "      <td>2018.05.13.a</td>\n",
       "      <td>2018</td>\n",
       "      <td>england</td>\n",
       "      <td>Cornwall</td>\n",
       "      <td>Off Land's End</td>\n",
       "      <td>M</td>\n",
       "      <td>21</td>\n",
       "      <td>Invalid incident</td>\n",
       "      <td>siglo XXI</td>\n",
       "      <td>Injured by teeth of a dead porbeagle shark he ...</td>\n",
       "      <td>13-May-2018</td>\n",
       "      <td>['May']</td>\n",
       "      <td>N</td>\n",
       "      <td>N</td>\n",
       "      <td>england</td>\n",
       "    </tr>\n",
       "  </tbody>\n",
       "</table>\n",
       "</div>"
      ],
      "text/plain": [
       "    case_number  year    country        area                      location  \\\n",
       "0    2018.06.25  2018        usa  California   Oceanside, San Diego County   \n",
       "1  2018.06.03.a  2018     brazil  Pernambuco         Piedade Beach, Recife   \n",
       "2  2018.05.26.b  2018        usa     Florida  Cocoa Beach, Brevard  County   \n",
       "3    2018.05.24  2018  australia  Queensland               Cairns Aquarium   \n",
       "4  2018.05.13.a  2018    england    Cornwall                Off Land's End   \n",
       "\n",
       "  sex_ age          species_      siglo  \\\n",
       "0    F  57       White shark  siglo XXI   \n",
       "1    M  18       Tiger shark  siglo XXI   \n",
       "2    M  15    Bull shark, 6'  siglo XXI   \n",
       "3    M  32   Grey reef shark  siglo XXI   \n",
       "4    M  21  Invalid incident  siglo XXI   \n",
       "\n",
       "                                              injury         date      mes  \\\n",
       "0  No injury to occupant, outrigger canoe and pad...  25-Jun-2018  ['Jun']   \n",
       "1                                              FATAL  03-Jun-2018  ['Jun']   \n",
       "2                              Lower left leg bitten  26-May-2018  ['May']   \n",
       "3  Minor bite to hand by captive shark. PROVOKED ...  24-May-2018  ['May']   \n",
       "4  Injured by teeth of a dead porbeagle shark he ...  13-May-2018  ['May']   \n",
       "\n",
       "  fatal_(y/n)_limpio sex   country_  \n",
       "0                  N   Y        usa  \n",
       "1                  Y   Y     brazil  \n",
       "2                  N   N        usa  \n",
       "3                  N   N  australia  \n",
       "4                  N   N    england  "
      ]
     },
     "execution_count": 132,
     "metadata": {},
     "output_type": "execute_result"
    }
   ],
   "source": [
    "df_copia.head()"
   ]
  },
  {
   "cell_type": "code",
   "execution_count": 133,
   "metadata": {},
   "outputs": [],
   "source": [
    "# 5. Guardamos el csv para seguir trabajando en el siguiente ejercicio de pair de limpieza.\n",
    "\n",
    "df_copia.to_csv(\"datos/attacks_pandas8.csv\")"
   ]
  }
 ],
 "metadata": {
  "kernelspec": {
   "display_name": "base",
   "language": "python",
   "name": "python3"
  },
  "language_info": {
   "codemirror_mode": {
    "name": "ipython",
    "version": 3
   },
   "file_extension": ".py",
   "mimetype": "text/x-python",
   "name": "python",
   "nbconvert_exporter": "python",
   "pygments_lexer": "ipython3",
   "version": "3.9.7"
  },
  "orig_nbformat": 4,
  "vscode": {
   "interpreter": {
    "hash": "f2db153c52986c069ff377292b192106e7e0a1a0b98e4459b9b4cabd3fa94ab4"
   }
  }
 },
 "nbformat": 4,
 "nbformat_minor": 2
}
