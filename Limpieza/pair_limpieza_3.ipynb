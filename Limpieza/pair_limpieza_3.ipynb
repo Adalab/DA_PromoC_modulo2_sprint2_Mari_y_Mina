{
 "cells": [
  {
   "attachments": {},
   "cell_type": "markdown",
   "metadata": {},
   "source": [
    "### Pair Programming – Limpieza III"
   ]
  },
  {
   "attachments": {},
   "cell_type": "markdown",
   "metadata": {},
   "source": [
    "Ya hemos limpiado todas las columnas que parecía que no tenían el tipo de dato que queríamos o que tenían demasiada información. Por lo tanto, en este ejercicio tendremos que limpiar los outliers.\n",
    "1. ¿Sobre qué columnas podremos eliminar o reemplazar los outliers?\n",
    "2. Identifica visualmente los outliers\n",
    "3. Identifica sobre el dataframe las filas que son outliers\n",
    "4. Reemplaza los outliers por el estadístico más correcto.\n",
    "5. Guarda el csv con las columnas limpias para seguir trabajando con este dataframe limpio en el siguiente pair programming de limpieza."
   ]
  },
  {
   "cell_type": "code",
   "execution_count": 58,
   "metadata": {},
   "outputs": [],
   "source": [
    "import pandas as pd\n",
    "import seaborn as sns\n",
    "import numpy as np\n",
    "import matplotlib.pyplot as plt"
   ]
  },
  {
   "cell_type": "code",
   "execution_count": 59,
   "metadata": {},
   "outputs": [],
   "source": [
    "df = pd.read_csv(\"datos/attacks_pandas_8.csv\")"
   ]
  },
  {
   "cell_type": "code",
   "execution_count": 60,
   "metadata": {},
   "outputs": [
    {
     "data": {
      "text/html": [
       "<div>\n",
       "<style scoped>\n",
       "    .dataframe tbody tr th:only-of-type {\n",
       "        vertical-align: middle;\n",
       "    }\n",
       "\n",
       "    .dataframe tbody tr th {\n",
       "        vertical-align: top;\n",
       "    }\n",
       "\n",
       "    .dataframe thead th {\n",
       "        text-align: right;\n",
       "    }\n",
       "</style>\n",
       "<table border=\"1\" class=\"dataframe\">\n",
       "  <thead>\n",
       "    <tr style=\"text-align: right;\">\n",
       "      <th></th>\n",
       "      <th>Unnamed: 0</th>\n",
       "      <th>case_number</th>\n",
       "      <th>year</th>\n",
       "      <th>country</th>\n",
       "      <th>area</th>\n",
       "      <th>location</th>\n",
       "      <th>sex_</th>\n",
       "      <th>age</th>\n",
       "      <th>species_</th>\n",
       "      <th>siglo</th>\n",
       "      <th>injury</th>\n",
       "      <th>date</th>\n",
       "      <th>mes</th>\n",
       "      <th>fatal_(y/n)_limpio</th>\n",
       "      <th>sex</th>\n",
       "      <th>country_</th>\n",
       "    </tr>\n",
       "  </thead>\n",
       "  <tbody>\n",
       "    <tr>\n",
       "      <th>0</th>\n",
       "      <td>0</td>\n",
       "      <td>2018.06.25</td>\n",
       "      <td>2018.0</td>\n",
       "      <td>usa</td>\n",
       "      <td>California</td>\n",
       "      <td>Oceanside, San Diego County</td>\n",
       "      <td>F</td>\n",
       "      <td>57</td>\n",
       "      <td>White shark</td>\n",
       "      <td>siglo XXI</td>\n",
       "      <td>No injury to occupant, outrigger canoe and pad...</td>\n",
       "      <td>25-Jun-2018</td>\n",
       "      <td>Jun</td>\n",
       "      <td>N</td>\n",
       "      <td>F</td>\n",
       "      <td>usa</td>\n",
       "    </tr>\n",
       "    <tr>\n",
       "      <th>1</th>\n",
       "      <td>1</td>\n",
       "      <td>2018.06.03.a</td>\n",
       "      <td>2018.0</td>\n",
       "      <td>brazil</td>\n",
       "      <td>Pernambuco</td>\n",
       "      <td>Piedade Beach, Recife</td>\n",
       "      <td>M</td>\n",
       "      <td>18</td>\n",
       "      <td>Tiger shark</td>\n",
       "      <td>siglo XXI</td>\n",
       "      <td>FATAL</td>\n",
       "      <td>03-Jun-2018</td>\n",
       "      <td>Jun</td>\n",
       "      <td>Y</td>\n",
       "      <td>M</td>\n",
       "      <td>brazil</td>\n",
       "    </tr>\n",
       "  </tbody>\n",
       "</table>\n",
       "</div>"
      ],
      "text/plain": [
       "   Unnamed: 0   case_number    year country        area  \\\n",
       "0           0    2018.06.25  2018.0     usa  California   \n",
       "1           1  2018.06.03.a  2018.0  brazil  Pernambuco   \n",
       "\n",
       "                      location sex_ age     species_      siglo  \\\n",
       "0  Oceanside, San Diego County    F  57  White shark  siglo XXI   \n",
       "1        Piedade Beach, Recife    M  18  Tiger shark  siglo XXI   \n",
       "\n",
       "                                              injury         date  mes  \\\n",
       "0  No injury to occupant, outrigger canoe and pad...  25-Jun-2018  Jun   \n",
       "1                                              FATAL  03-Jun-2018  Jun   \n",
       "\n",
       "  fatal_(y/n)_limpio sex country_  \n",
       "0                  N   F      usa  \n",
       "1                  Y   M   brazil  "
      ]
     },
     "execution_count": 60,
     "metadata": {},
     "output_type": "execute_result"
    }
   ],
   "source": [
    "df.head(2)"
   ]
  },
  {
   "cell_type": "code",
   "execution_count": 61,
   "metadata": {},
   "outputs": [
    {
     "data": {
      "text/plain": [
       "(7789, 16)"
      ]
     },
     "execution_count": 61,
     "metadata": {},
     "output_type": "execute_result"
    }
   ],
   "source": [
    "df.shape"
   ]
  },
  {
   "cell_type": "code",
   "execution_count": 62,
   "metadata": {},
   "outputs": [],
   "source": [
    "df_numericas = df.select_dtypes(include = np.number)"
   ]
  },
  {
   "cell_type": "code",
   "execution_count": 63,
   "metadata": {},
   "outputs": [],
   "source": [
    "# ¿Sobre qué columnas podremos eliminar o reemplazar los outliers?\n"
   ]
  },
  {
   "attachments": {},
   "cell_type": "markdown",
   "metadata": {},
   "source": [
    "Tenemos sólo dos columnas numéricas para extraaer los outliers, la de \"edad\" y la de \"year\". En la columna de \"edad\", por ejemplo, los outliers podrían modificar demasiado la media y sería conveniente, a lo mejor, quitarlos. En la columna \"year\" también habría que considerar eliminar los outliers de fechas muy lejanas."
   ]
  },
  {
   "cell_type": "code",
   "execution_count": 64,
   "metadata": {},
   "outputs": [
    {
     "data": {
      "image/png": "[encoded data removed]",
      "text/plain": [
       "<Figure size 432x288 with 1 Axes>"
      ]
     },
     "metadata": {
      "needs_background": "light"
     },
     "output_type": "display_data"
    }
   ],
   "source": [
    "# Identifica visualmente los outliers.\n",
    "\n",
    "\n",
    "sns.boxplot(x = df[\"year\"], data = df)\n",
    "\n",
    "plt.show();"
   ]
  },
  {
   "attachments": {},
   "cell_type": "markdown",
   "metadata": {},
   "source": [
    "Para cuando tengamos más columnas numéricas <3\n",
    "\n",
    "fig, ax = plt.subplot(15,1,1)\n",
    "\n",
    "for i in range(len(df.columns)):\n",
    "    sns.boxplot(x = df.columns[i], data = df, ax = ax[i])\n",
    "\n",
    "plt.show();"
   ]
  },
  {
   "cell_type": "code",
   "execution_count": 65,
   "metadata": {},
   "outputs": [],
   "source": [
    "df[\"year\"] = pd.to_numeric(df[\"year\"])"
   ]
  },
  {
   "cell_type": "code",
   "execution_count": 66,
   "metadata": {},
   "outputs": [
    {
     "name": "stdout",
     "output_type": "stream",
     "text": [
      "<class 'pandas.core.frame.DataFrame'>\n",
      "RangeIndex: 7789 entries, 0 to 7788\n",
      "Data columns (total 16 columns):\n",
      " #   Column              Non-Null Count  Dtype  \n",
      "---  ------              --------------  -----  \n",
      " 0   Unnamed: 0          7789 non-null   int64  \n",
      " 1   case_number         7788 non-null   object \n",
      " 2   year                1672 non-null   float64\n",
      " 3   country             1662 non-null   object \n",
      " 4   area                1626 non-null   object \n",
      " 5   location            1621 non-null   object \n",
      " 6   sex_                1658 non-null   object \n",
      " 7   age                 1518 non-null   object \n",
      " 8   species_            1546 non-null   object \n",
      " 9   siglo               1502 non-null   object \n",
      " 10  injury              6258 non-null   object \n",
      " 11  date                6286 non-null   object \n",
      " 12  mes                 5394 non-null   object \n",
      " 13  fatal_(y/n)_limpio  5678 non-null   object \n",
      " 14  sex                 7789 non-null   object \n",
      " 15  country_            1662 non-null   object \n",
      "dtypes: float64(1), int64(1), object(14)\n",
      "memory usage: 973.8+ KB\n"
     ]
    }
   ],
   "source": [
    "df.info()"
   ]
  },
  {
   "cell_type": "code",
   "execution_count": 67,
   "metadata": {},
   "outputs": [
    {
     "data": {
      "text/plain": [
       "Unnamed: 0               0\n",
       "case_number              1\n",
       "year                  6117\n",
       "country               6127\n",
       "area                  6163\n",
       "location              6168\n",
       "sex_                  6131\n",
       "age                   6271\n",
       "species_              6243\n",
       "siglo                 6287\n",
       "injury                1531\n",
       "date                  1503\n",
       "mes                   2395\n",
       "fatal_(y/n)_limpio    2111\n",
       "sex                      0\n",
       "country_              6127\n",
       "dtype: int64"
      ]
     },
     "execution_count": 67,
     "metadata": {},
     "output_type": "execute_result"
    }
   ],
   "source": [
    "df.isnull().sum()"
   ]
  },
  {
   "cell_type": "code",
   "execution_count": 68,
   "metadata": {},
   "outputs": [],
   "source": [
    "# Identifica sobre el dataframe las filas que son outliers.\n",
    "\n",
    "def detectar(lista_columnas, df):\n",
    "    dict = {}\n",
    "    for col in lista_columnas:\n",
    "        print(col)\n",
    "        Q1 = np.nanpercentile(df[col], 25)\n",
    "        Q3 = np.nanpercentile(df[col], 75)\n",
    "        IQR = Q3 - Q1\n",
    "        outlier_step = 1.5 * IQR\n",
    "        outlier_data = df[(df[col] < Q1 - outlier_step) | (df[col] > Q3 + outlier_step)]\n",
    "    \n",
    "        if outlier_data.shape[0] > 0:\n",
    "            dict[col] = list(outlier_data.index)\n",
    "    \n",
    "    return dict"
   ]
  },
  {
   "cell_type": "code",
   "execution_count": 69,
   "metadata": {},
   "outputs": [],
   "source": [
    "Q1 = np.nanpercentile(df[\"year\"], 25)"
   ]
  },
  {
   "cell_type": "code",
   "execution_count": 70,
   "metadata": {},
   "outputs": [],
   "source": [
    "lista_columnas = df_numericas.columns"
   ]
  },
  {
   "cell_type": "code",
   "execution_count": 71,
   "metadata": {},
   "outputs": [
    {
     "name": "stdout",
     "output_type": "stream",
     "text": [
      "Unnamed: 0\n",
      "year\n"
     ]
    }
   ],
   "source": [
    "outliers = detectar(lista_columnas, df_numericas)"
   ]
  },
  {
   "cell_type": "code",
   "execution_count": 72,
   "metadata": {},
   "outputs": [],
   "source": [
    "# Reemplaza los outliers por el estadístico más correcto."
   ]
  },
  {
   "cell_type": "code",
   "execution_count": 73,
   "metadata": {},
   "outputs": [],
   "source": [
    "# Guarda el csv con las columnas limpias para seguir trabajando con este dataframe limpio en el siguiente\n",
    "# pair programming de limpieza."
   ]
  }
 ],
 "metadata": {
  "kernelspec": {
   "display_name": "base",
   "language": "python",
   "name": "python3"
  },
  "language_info": {
   "codemirror_mode": {
    "name": "ipython",
    "version": 3
   },
   "file_extension": ".py",
   "mimetype": "text/x-python",
   "name": "python",
   "nbconvert_exporter": "python",
   "pygments_lexer": "ipython3",
   "version": "3.9.7"
  },
  "orig_nbformat": 4,
  "vscode": {
   "interpreter": {
    "hash": "f2db153c52986c069ff377292b192106e7e0a1a0b98e4459b9b4cabd3fa94ab4"
   }
  }
 },
 "nbformat": 4,
 "nbformat_minor": 2
}
