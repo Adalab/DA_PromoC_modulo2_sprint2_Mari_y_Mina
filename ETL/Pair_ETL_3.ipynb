{
 "cells": [
  {
   "attachments": {},
   "cell_type": "markdown",
   "metadata": {},
   "source": [
    "En este ejercicio, tendréis que crear una clase con el código que usamos en los ejercicios de pair programming de ETL Transformación I y II."
   ]
  },
  {
   "cell_type": "code",
   "execution_count": 16,
   "metadata": {},
   "outputs": [],
   "source": [
    "import requests\n",
    "import pandas as pd\n",
    "import numpy as np\n",
    "import ast\n",
    "\n",
    "from datetime import datetime, timedelta\n",
    "pd.options.display.max_columns = None"
   ]
  },
  {
   "cell_type": "code",
   "execution_count": 17,
   "metadata": {},
   "outputs": [],
   "source": [
    "class etl:\n",
    "    def __init__(self,  longitud, latitud, pais, producto):\n",
    "\n",
    "        self.longitud = longitud\n",
    "        self.latitud = latitud\n",
    "        self.pais = pais\n",
    "        self.producto = producto\n",
    "\n",
    "    def llamada(self):\n",
    "\n",
    "        url= f'http://www.7timer.info/bin/api.pl?lon={self.longitud}&lat={self.latitud}&product={self.producto}&output=json'\n",
    "\n",
    "        response = requests.get(url)\n",
    "        codigo = response.status_code\n",
    "        razon = response.reason\n",
    "\n",
    "        print(f\"El código de respuesta es {codigo}. Y la razon {razon}.\")\n",
    "\n",
    "        df = pd.DataFrame.from_dict(pd.json_normalize(response.json()['dataseries']))\n",
    "        df[\"country\"] = self.pais\n",
    "        \n",
    "        \n",
    "        return df\n",
    "\n",
    "    def limpiar(self, df):\n",
    "\n",
    "        df[\"country\"] = df[\"country\"].str.lower()\n",
    "        \n",
    "        #df['rh_profile'] = df['rh_profile'].apply(ast.literal_eval)\n",
    "        df_rh = df[\"rh_profile\"].apply(pd.Series)\n",
    "\n",
    "        for i in range(len(df_rh.columns)):\n",
    "    \n",
    "            nombre = \"rh_\" + str(df_rh[i].apply(pd.Series)[\"layer\"][0]) \n",
    "\n",
    "            valores = list(df_rh[i].apply(pd.Series)[\"rh\"])\n",
    "    \n",
    "            df.insert(i, nombre[0:14], valores)\n",
    "    \n",
    "\n",
    "        return df"
   ]
  },
  {
   "cell_type": "code",
   "execution_count": 18,
   "metadata": {},
   "outputs": [
    {
     "data": {
      "text/plain": [
       "<__main__.etl at 0x7fd39bb33d90>"
      ]
     },
     "execution_count": 18,
     "metadata": {},
     "output_type": "execute_result"
    }
   ],
   "source": [
    "cosa = etl(-100.445882, 39.7837304, \"USA\",\"meteo\")\n",
    "cosa"
   ]
  },
  {
   "cell_type": "code",
   "execution_count": 19,
   "metadata": {},
   "outputs": [
    {
     "name": "stdout",
     "output_type": "stream",
     "text": [
      "El código de respuesta es 200. Y la razon OK.\n"
     ]
    },
    {
     "data": {
      "text/html": [
       "<div>\n",
       "<style scoped>\n",
       "    .dataframe tbody tr th:only-of-type {\n",
       "        vertical-align: middle;\n",
       "    }\n",
       "\n",
       "    .dataframe tbody tr th {\n",
       "        vertical-align: top;\n",
       "    }\n",
       "\n",
       "    .dataframe thead th {\n",
       "        text-align: right;\n",
       "    }\n",
       "</style>\n",
       "<table border=\"1\" class=\"dataframe\">\n",
       "  <thead>\n",
       "    <tr style=\"text-align: right;\">\n",
       "      <th></th>\n",
       "      <th>timepoint</th>\n",
       "      <th>cloudcover</th>\n",
       "      <th>highcloud</th>\n",
       "      <th>midcloud</th>\n",
       "      <th>lowcloud</th>\n",
       "      <th>rh_profile</th>\n",
       "      <th>wind_profile</th>\n",
       "      <th>temp2m</th>\n",
       "      <th>lifted_index</th>\n",
       "      <th>rh2m</th>\n",
       "      <th>msl_pressure</th>\n",
       "      <th>prec_type</th>\n",
       "      <th>prec_amount</th>\n",
       "      <th>snow_depth</th>\n",
       "      <th>wind10m.direction</th>\n",
       "      <th>wind10m.speed</th>\n",
       "      <th>country</th>\n",
       "    </tr>\n",
       "  </thead>\n",
       "  <tbody>\n",
       "    <tr>\n",
       "      <th>0</th>\n",
       "      <td>3</td>\n",
       "      <td>1</td>\n",
       "      <td>-9999</td>\n",
       "      <td>-9999</td>\n",
       "      <td>-9999</td>\n",
       "      <td>[{'layer': '950mb', 'rh': -9999}, {'layer': '9...</td>\n",
       "      <td>[{'layer': '950mb', 'direction': -9999, 'speed...</td>\n",
       "      <td>1</td>\n",
       "      <td>15</td>\n",
       "      <td>13</td>\n",
       "      <td>1011</td>\n",
       "      <td>none</td>\n",
       "      <td>0</td>\n",
       "      <td>0</td>\n",
       "      <td>290</td>\n",
       "      <td>2</td>\n",
       "      <td>USA</td>\n",
       "    </tr>\n",
       "    <tr>\n",
       "      <th>1</th>\n",
       "      <td>6</td>\n",
       "      <td>4</td>\n",
       "      <td>-9999</td>\n",
       "      <td>-9999</td>\n",
       "      <td>-9999</td>\n",
       "      <td>[{'layer': '950mb', 'rh': -9999}, {'layer': '9...</td>\n",
       "      <td>[{'layer': '950mb', 'direction': -9999, 'speed...</td>\n",
       "      <td>1</td>\n",
       "      <td>15</td>\n",
       "      <td>13</td>\n",
       "      <td>1010</td>\n",
       "      <td>none</td>\n",
       "      <td>0</td>\n",
       "      <td>0</td>\n",
       "      <td>10</td>\n",
       "      <td>2</td>\n",
       "      <td>USA</td>\n",
       "    </tr>\n",
       "  </tbody>\n",
       "</table>\n",
       "</div>"
      ],
      "text/plain": [
       "   timepoint  cloudcover  highcloud  midcloud  lowcloud  \\\n",
       "0          3           1      -9999     -9999     -9999   \n",
       "1          6           4      -9999     -9999     -9999   \n",
       "\n",
       "                                          rh_profile  \\\n",
       "0  [{'layer': '950mb', 'rh': -9999}, {'layer': '9...   \n",
       "1  [{'layer': '950mb', 'rh': -9999}, {'layer': '9...   \n",
       "\n",
       "                                        wind_profile  temp2m  lifted_index  \\\n",
       "0  [{'layer': '950mb', 'direction': -9999, 'speed...       1            15   \n",
       "1  [{'layer': '950mb', 'direction': -9999, 'speed...       1            15   \n",
       "\n",
       "   rh2m  msl_pressure prec_type  prec_amount  snow_depth wind10m.direction  \\\n",
       "0    13          1011      none            0           0               290   \n",
       "1    13          1010      none            0           0                10   \n",
       "\n",
       "   wind10m.speed country  \n",
       "0              2     USA  \n",
       "1              2     USA  "
      ]
     },
     "execution_count": 19,
     "metadata": {},
     "output_type": "execute_result"
    }
   ],
   "source": [
    "df_cosa = cosa.llamada()\n",
    "df_cosa.head(2)"
   ]
  },
  {
   "cell_type": "code",
   "execution_count": 20,
   "metadata": {},
   "outputs": [
    {
     "data": {
      "text/plain": [
       "list"
      ]
     },
     "execution_count": 20,
     "metadata": {},
     "output_type": "execute_result"
    }
   ],
   "source": [
    "type(df_cosa[\"rh_profile\"][0])"
   ]
  },
  {
   "cell_type": "code",
   "execution_count": 21,
   "metadata": {},
   "outputs": [],
   "source": [
    "dfcosa_limpio = cosa.limpiar(df_cosa)"
   ]
  },
  {
   "cell_type": "code",
   "execution_count": null,
   "metadata": {},
   "outputs": [],
   "source": [
    "#meter funciones media, meter funcion columnsa wind, meter funcion unirarchivos?"
   ]
  },
  {
   "cell_type": "code",
   "execution_count": 22,
   "metadata": {},
   "outputs": [
    {
     "data": {
      "text/html": [
       "<div>\n",
       "<style scoped>\n",
       "    .dataframe tbody tr th:only-of-type {\n",
       "        vertical-align: middle;\n",
       "    }\n",
       "\n",
       "    .dataframe tbody tr th {\n",
       "        vertical-align: top;\n",
       "    }\n",
       "\n",
       "    .dataframe thead th {\n",
       "        text-align: right;\n",
       "    }\n",
       "</style>\n",
       "<table border=\"1\" class=\"dataframe\">\n",
       "  <thead>\n",
       "    <tr style=\"text-align: right;\">\n",
       "      <th></th>\n",
       "      <th>rh_950mb</th>\n",
       "      <th>rh_900mb</th>\n",
       "      <th>rh_850mb</th>\n",
       "      <th>rh_800mb</th>\n",
       "      <th>rh_750mb</th>\n",
       "      <th>rh_700mb</th>\n",
       "      <th>rh_650mb</th>\n",
       "      <th>rh_600mb</th>\n",
       "      <th>rh_550mb</th>\n",
       "      <th>rh_500mb</th>\n",
       "      <th>rh_450mb</th>\n",
       "      <th>rh_400mb</th>\n",
       "      <th>rh_350mb</th>\n",
       "      <th>rh_300mb</th>\n",
       "      <th>rh_250mb</th>\n",
       "      <th>rh_200mb</th>\n",
       "      <th>timepoint</th>\n",
       "      <th>cloudcover</th>\n",
       "      <th>highcloud</th>\n",
       "      <th>midcloud</th>\n",
       "      <th>lowcloud</th>\n",
       "      <th>rh_profile</th>\n",
       "      <th>wind_profile</th>\n",
       "      <th>temp2m</th>\n",
       "      <th>lifted_index</th>\n",
       "      <th>rh2m</th>\n",
       "      <th>msl_pressure</th>\n",
       "      <th>prec_type</th>\n",
       "      <th>prec_amount</th>\n",
       "      <th>snow_depth</th>\n",
       "      <th>wind10m.direction</th>\n",
       "      <th>wind10m.speed</th>\n",
       "      <th>country</th>\n",
       "    </tr>\n",
       "  </thead>\n",
       "  <tbody>\n",
       "    <tr>\n",
       "      <th>0</th>\n",
       "      <td>-9999</td>\n",
       "      <td>10</td>\n",
       "      <td>8</td>\n",
       "      <td>5</td>\n",
       "      <td>0</td>\n",
       "      <td>1</td>\n",
       "      <td>5</td>\n",
       "      <td>8</td>\n",
       "      <td>11</td>\n",
       "      <td>8</td>\n",
       "      <td>3</td>\n",
       "      <td>-1</td>\n",
       "      <td>2</td>\n",
       "      <td>3</td>\n",
       "      <td>7</td>\n",
       "      <td>-1</td>\n",
       "      <td>3</td>\n",
       "      <td>1</td>\n",
       "      <td>-9999</td>\n",
       "      <td>-9999</td>\n",
       "      <td>-9999</td>\n",
       "      <td>[{'layer': '950mb', 'rh': -9999}, {'layer': '9...</td>\n",
       "      <td>[{'layer': '950mb', 'direction': -9999, 'speed...</td>\n",
       "      <td>1</td>\n",
       "      <td>15</td>\n",
       "      <td>13</td>\n",
       "      <td>1011</td>\n",
       "      <td>none</td>\n",
       "      <td>0</td>\n",
       "      <td>0</td>\n",
       "      <td>290</td>\n",
       "      <td>2</td>\n",
       "      <td>usa</td>\n",
       "    </tr>\n",
       "    <tr>\n",
       "      <th>1</th>\n",
       "      <td>-9999</td>\n",
       "      <td>9</td>\n",
       "      <td>8</td>\n",
       "      <td>5</td>\n",
       "      <td>0</td>\n",
       "      <td>3</td>\n",
       "      <td>10</td>\n",
       "      <td>10</td>\n",
       "      <td>12</td>\n",
       "      <td>6</td>\n",
       "      <td>9</td>\n",
       "      <td>13</td>\n",
       "      <td>16</td>\n",
       "      <td>16</td>\n",
       "      <td>12</td>\n",
       "      <td>-3</td>\n",
       "      <td>6</td>\n",
       "      <td>4</td>\n",
       "      <td>-9999</td>\n",
       "      <td>-9999</td>\n",
       "      <td>-9999</td>\n",
       "      <td>[{'layer': '950mb', 'rh': -9999}, {'layer': '9...</td>\n",
       "      <td>[{'layer': '950mb', 'direction': -9999, 'speed...</td>\n",
       "      <td>1</td>\n",
       "      <td>15</td>\n",
       "      <td>13</td>\n",
       "      <td>1010</td>\n",
       "      <td>none</td>\n",
       "      <td>0</td>\n",
       "      <td>0</td>\n",
       "      <td>10</td>\n",
       "      <td>2</td>\n",
       "      <td>usa</td>\n",
       "    </tr>\n",
       "  </tbody>\n",
       "</table>\n",
       "</div>"
      ],
      "text/plain": [
       "   rh_950mb  rh_900mb  rh_850mb  rh_800mb  rh_750mb  rh_700mb  rh_650mb  \\\n",
       "0     -9999        10         8         5         0         1         5   \n",
       "1     -9999         9         8         5         0         3        10   \n",
       "\n",
       "   rh_600mb  rh_550mb  rh_500mb  rh_450mb  rh_400mb  rh_350mb  rh_300mb  \\\n",
       "0         8        11         8         3        -1         2         3   \n",
       "1        10        12         6         9        13        16        16   \n",
       "\n",
       "   rh_250mb  rh_200mb  timepoint  cloudcover  highcloud  midcloud  lowcloud  \\\n",
       "0         7        -1          3           1      -9999     -9999     -9999   \n",
       "1        12        -3          6           4      -9999     -9999     -9999   \n",
       "\n",
       "                                          rh_profile  \\\n",
       "0  [{'layer': '950mb', 'rh': -9999}, {'layer': '9...   \n",
       "1  [{'layer': '950mb', 'rh': -9999}, {'layer': '9...   \n",
       "\n",
       "                                        wind_profile  temp2m  lifted_index  \\\n",
       "0  [{'layer': '950mb', 'direction': -9999, 'speed...       1            15   \n",
       "1  [{'layer': '950mb', 'direction': -9999, 'speed...       1            15   \n",
       "\n",
       "   rh2m  msl_pressure prec_type  prec_amount  snow_depth wind10m.direction  \\\n",
       "0    13          1011      none            0           0               290   \n",
       "1    13          1010      none            0           0                10   \n",
       "\n",
       "   wind10m.speed country  \n",
       "0              2     usa  \n",
       "1              2     usa  "
      ]
     },
     "execution_count": 22,
     "metadata": {},
     "output_type": "execute_result"
    }
   ],
   "source": [
    "df_cosa.head(2)"
   ]
  }
 ],
 "metadata": {
  "kernelspec": {
   "display_name": "base",
   "language": "python",
   "name": "python3"
  },
  "language_info": {
   "codemirror_mode": {
    "name": "ipython",
    "version": 3
   },
   "file_extension": ".py",
   "mimetype": "text/x-python",
   "name": "python",
   "nbconvert_exporter": "python",
   "pygments_lexer": "ipython3",
   "version": "3.9.7"
  },
  "orig_nbformat": 4,
  "vscode": {
   "interpreter": {
    "hash": "b3191f930eabfdf0eb39086a24df618ea48425015dbb471465fb2c793fed20fd"
   }
  }
 },
 "nbformat": 4,
 "nbformat_minor": 2
}
